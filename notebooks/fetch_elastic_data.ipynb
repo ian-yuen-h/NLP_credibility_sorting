{
 "cells": [
  {
   "cell_type": "code",
   "execution_count": 1,
   "id": "popular-hungarian",
   "metadata": {},
   "outputs": [
    {
     "name": "stdout",
     "output_type": "stream",
     "text": [
      "Requirement already satisfied: elasticsearch in /home/trevor/miniconda3/envs/exsclaim/lib/python3.8/site-packages (7.13.3)\n",
      "Requirement already satisfied: certifi in /home/trevor/miniconda3/envs/exsclaim/lib/python3.8/site-packages (from elasticsearch) (2020.6.20)\n",
      "Requirement already satisfied: urllib3<2,>=1.21.1 in /home/trevor/miniconda3/envs/exsclaim/lib/python3.8/site-packages (from elasticsearch) (1.25.11)\n"
     ]
    }
   ],
   "source": [
    "!pip install elasticsearch"
   ]
  },
  {
   "cell_type": "code",
   "execution_count": 2,
   "id": "respected-combat",
   "metadata": {},
   "outputs": [],
   "source": [
    "import configparser\n",
    "from pathlib import Path\n",
    "from elasticsearch import Elasticsearch"
   ]
  },
  {
   "cell_type": "code",
   "execution_count": 3,
   "id": "falling-integration",
   "metadata": {},
   "outputs": [],
   "source": [
    "BASE_DIR = Path(\"..\")\n",
    "CONFIG_FILE = BASE_DIR / 'uchicago.ini'"
   ]
  },
  {
   "cell_type": "code",
   "execution_count": 4,
   "id": "processed-essence",
   "metadata": {},
   "outputs": [],
   "source": [
    "def initialize_elastic_search():\n",
    "    \"\"\" Sets up connection to server and returns elastic search object \"\"\"\n",
    "    config = configparser.ConfigParser()\n",
    "    config.read(CONFIG_FILE)\n",
    "    server_config = config['server']\n",
    "    es = Elasticsearch(\n",
    "        [{ 'host': server_config['host'], 'port': server_config['port'] }],\n",
    "        http_auth=(server_config['username'], server_config['password']))\n",
    "    return es"
   ]
  },
  {
   "cell_type": "code",
   "execution_count": 5,
   "id": "practical-lingerie",
   "metadata": {},
   "outputs": [],
   "source": [
    "es = initialize_elastic_search()"
   ]
  },
  {
   "cell_type": "code",
   "execution_count": 6,
   "id": "tamil-intermediate",
   "metadata": {},
   "outputs": [],
   "source": [
    "res = es.search(\n",
    "    index='emm_data',\n",
    "    size=1,\n",
    "    body={ \"query\": { \"match_all\": {} } },\n",
    "    _source=['source', 'link']\n",
    ")"
   ]
  },
  {
   "cell_type": "code",
   "execution_count": 7,
   "id": "bizarre-norwegian",
   "metadata": {},
   "outputs": [
    {
     "data": {
      "text/plain": [
       "[{'_index': 'emm_data',\n",
       "  '_type': '_doc',\n",
       "  '_id': 'rfi-en-9ed24ba66f65f094011834de0e814ecb',\n",
       "  '_score': 1.0,\n",
       "  '_source': {'link': 'https://www.rfi.fr/en/africa/20210401-gbagbo-acquittal-at-icc-raises-questions-over-much-needed-court-reforms-post-election-violence-cote-d-ivoire-africa',\n",
       "   'source': 'rfi'}}]"
      ]
     },
     "execution_count": 7,
     "metadata": {},
     "output_type": "execute_result"
    }
   ],
   "source": [
    "res['hits']['hits']"
   ]
  },
  {
   "cell_type": "code",
   "execution_count": 8,
   "id": "seven-mumbai",
   "metadata": {},
   "outputs": [
    {
     "data": {
      "text/plain": [
       "{'took': 0,\n",
       " 'timed_out': False,\n",
       " '_shards': {'total': 1, 'successful': 1, 'skipped': 0, 'failed': 0},\n",
       " 'hits': {'total': {'value': 10000, 'relation': 'gte'},\n",
       "  'max_score': 1.0,\n",
       "  'hits': [{'_index': 'emm_data',\n",
       "    '_type': '_doc',\n",
       "    '_id': 'rfi-en-9ed24ba66f65f094011834de0e814ecb',\n",
       "    '_score': 1.0,\n",
       "    '_source': {'link': 'https://www.rfi.fr/en/africa/20210401-gbagbo-acquittal-at-icc-raises-questions-over-much-needed-court-reforms-post-election-violence-cote-d-ivoire-africa',\n",
       "     'source': 'rfi'}}]}}"
      ]
     },
     "execution_count": 8,
     "metadata": {},
     "output_type": "execute_result"
    }
   ],
   "source": [
    "res"
   ]
  }
 ],
 "metadata": {
  "kernelspec": {
   "display_name": "Python 3",
   "language": "python",
   "name": "python3"
  },
  "language_info": {
   "codemirror_mode": {
    "name": "ipython",
    "version": 3
   },
   "file_extension": ".py",
   "mimetype": "text/x-python",
   "name": "python",
   "nbconvert_exporter": "python",
   "pygments_lexer": "ipython3",
   "version": "3.8.5"
  }
 },
 "nbformat": 4,
 "nbformat_minor": 5
}