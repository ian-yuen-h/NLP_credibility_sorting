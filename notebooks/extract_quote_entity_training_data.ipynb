{
 "cells": [
  {
   "cell_type": "code",
   "execution_count": 1,
   "id": "northern-secondary",
   "metadata": {},
   "outputs": [],
   "source": [
    "import pandas as pd\n",
    "import numpy as np\n",
    "import json"
   ]
  },
  {
   "cell_type": "code",
   "execution_count": 2,
   "id": "important-cuisine",
   "metadata": {},
   "outputs": [],
   "source": [
    "# Opening JSON file\n",
    "f = open('data.json',)\n",
    "  \n",
    "# returns JSON object as \n",
    "# a dictionary\n",
    "data = json.load(f)\n",
    "\n",
    "# Closing file\n",
    "f.close()"
   ]
  },
  {
   "cell_type": "code",
   "execution_count": 3,
   "id": "quarterly-freight",
   "metadata": {},
   "outputs": [
    {
     "name": "stdout",
     "output_type": "stream",
     "text": [
      "<class 'dict'>\n"
     ]
    }
   ],
   "source": [
    "print(type(data))"
   ]
  },
  {
   "cell_type": "code",
   "execution_count": 4,
   "id": "horizontal-logan",
   "metadata": {},
   "outputs": [
    {
     "name": "stderr",
     "output_type": "stream",
     "text": [
      "/Users/oooyyyzzz/opt/anaconda3/lib/python3.8/site-packages/gensim/similarities/__init__.py:15: UserWarning: The gensim.similarities.levenshtein submodule is disabled, because the optional Levenshtein package <https://pypi.org/project/python-Levenshtein/> is unavailable. Install Levenhstein (e.g. `pip install python-Levenshtein`) to suppress this warning.\n",
      "  warnings.warn(msg)\n",
      "[nltk_data] Downloading package punkt to /Users/oooyyyzzz/nltk_data...\n",
      "[nltk_data]   Package punkt is already up-to-date!\n"
     ]
    }
   ],
   "source": [
    "%load_ext autoreload\n",
    "%autoreload 2\n",
    "import pipeline_entity_quote as pipeline"
   ]
  },
  {
   "cell_type": "markdown",
   "id": "cellular-commons",
   "metadata": {},
   "source": [
    "# Result_dict\n",
    "\n",
    "num_entity: number of entities;     \n",
    "num_entity_type: number of entity types;\n",
    "num_org: number of ORG(organization entities);        \n"
   ]
  },
  {
   "cell_type": "markdown",
   "id": "formal-wrist",
   "metadata": {},
   "source": [
    "# Trial1: get number of entities"
   ]
  },
  {
   "cell_type": "code",
   "execution_count": 5,
   "id": "fuzzy-disaster",
   "metadata": {},
   "outputs": [],
   "source": [
    "result_dict = {}"
   ]
  },
  {
   "cell_type": "code",
   "execution_count": 5,
   "id": "hydraulic-outdoors",
   "metadata": {},
   "outputs": [
    {
     "name": "stdout",
     "output_type": "stream",
     "text": [
      "9\n",
      "{'ORDINAL': ['first'], 'NORP': ['Democrat', 'Coloradans', 'Republicans', 'Democrats', 'Democratic', 'Republican'], 'MONEY': ['21 trillion dollars'], 'GPE': ['Puerto Rico', 'California', 'Illinois', 'New York', 'Colorado'], 'PERSON': ['Jared Polis', 'Dianne Primavera', 'Michele Poague', 'Patriot Boot Camp', 'Walker Stapleton', 'Eric Bodenstab', 'Scott Helker', 'Polis', 'Stapleton', 'Bill Ritter', 'Bill Hammons'], 'ORG': ['Unity Party of America', 'the Unity Party', 'General Election', 'the Federal Government', 'the State Assembly', 'Medicaid', 'Unity Party', 'Rank', 'Senate', 'Medicare'], 'DATE': ['the next decade', 'Just two years ago', 'November', '100-day', 'Amendment 69', 'the day'], 'CARDINAL': ['two', '49', 'hundreds', '1,000', 'four', '3', '2', '1', 'hundreds of thousands', 'three'], 'PERCENT': ['the other 90 percent', 'only 10 percent', '100 percent', 'nearly 80 percent']}\n",
      "54\n"
     ]
    }
   ],
   "source": [
    "for uid, info in data.items():\n",
    "    text = info['text']\n",
    "    doc, token_lst = pipeline.tokenize_text(text)\n",
    "    entity_dict, num_entity = pipeline.detect_entity(doc)\n",
    "    num_entity_type = len(entity_dict)\n",
    "    \n",
    "    break"
   ]
  },
  {
   "cell_type": "markdown",
   "id": "proud-blake",
   "metadata": {},
   "source": [
    "# Trial2: get quotation sentiment"
   ]
  },
  {
   "cell_type": "code",
   "execution_count": null,
   "id": "falling-doubt",
   "metadata": {},
   "outputs": [],
   "source": []
  },
  {
   "cell_type": "code",
   "execution_count": 10,
   "id": "mechanical-hampton",
   "metadata": {},
   "outputs": [
    {
     "name": "stdout",
     "output_type": "stream",
     "text": [
      "DQTriple(speaker=[minister], cue=[said], content=\"Kurds are pitted against Kurds , Iraqis against Kurds , Turks against Kurds -- and the American planes just circle overhead without intervening , \")\n"
     ]
    }
   ],
   "source": [
    "import en_core_web_sm\n",
    "\n",
    "from textacy import extract as ex\n",
    "nlp = en_core_web_sm.load()\n",
    "doc=nlp(\" \\\"Kurds are pitted against Kurds , Iraqis against Kurds , Turks against Kurds -- and the American planes just circle overhead without intervening , \\\" the minister said\")\n",
    "a=ex.direct_quotations(doc)\n",
    "for item in a: print (item)\n",
    "\n",
    "    \n",
    "# output type reference: \n",
    "# https://textacy.readthedocs.io/en/latest/api_reference/extract.html?highlight=extract#textacy.extract.triples.DQTriple \n"
   ]
  },
  {
   "cell_type": "code",
   "execution_count": null,
   "id": "curious-shoulder",
   "metadata": {},
   "outputs": [],
   "source": []
  },
  {
   "cell_type": "code",
   "execution_count": null,
   "id": "guided-broadcast",
   "metadata": {},
   "outputs": [],
   "source": []
  },
  {
   "cell_type": "code",
   "execution_count": 13,
   "id": "viral-hybrid",
   "metadata": {},
   "outputs": [
    {
     "data": {
      "text/plain": [
       "'MANILA - The Senate on Monday passed on third reading the Alternative Learning System, which allows out-of-school youth, persons with disabilities, indigenous peoples, and other underserved communities to receive education \"tailored to respond to their learning needs and life circumstances.\"\\n\\nTwenty-two senators voted in favor of Senate Bill No. 1365, which sought to \"guarantee equitable opportunity for all learners.\"\\n\\n\"The ALS Act is, in its very essence, a bill about second chances,\" said principal author Sen. Sherwin Gatchalian in a statement.\\n\\n\"It is a bill about providing opportunities for a better life to our fellow Filipinos who have fallen into hard times,” said the senator, who chairs the Senate Committee on Basic Education Arts and Culture.\\n\\nUnder the measure, all cities and municipalities will be required to have at least 1 ALS center that would provide \"a mix of learning modalities\" such as \"digital learning, modular instruction, and radio and television-based instruction.\"\\n\\nThe system is also useful now that the Education sector needs to adapt to a new normal during the coronavirus disease 2019 (COVID-19) pandemic, Gatchalian said.\\n\\nInstitutionalizing a mix of learning modules will \"help ensure the safety of learners,\" he said.\\n\\nThe Act also expands the recruitment program for ALS teachers to ensure that the system would reach far-flung communities in need of education.\\n\\nUnder the policy, the national government \"shall create teaching positions and allocate the corresponding salary grades.\"\\n\\n\"The CHED shall likewise develop a standardized and formalized ALS curriculum for a specialized degree in ALS teaching,\" it said.\\n\\n\"Measures shall be undertaken in order for the general public, especially educational and training institutions, government agencies, and employers to recognize the nature and value of certifications provided to ALS learners.\"\\n\\nThe bill also creates the Bureau of Alternative Education (BAE), an office which was dissolved 2016 after its functions were integrated in other bureaus of the Department of Education.\\n\\nBefore the Senate passed the ALS bill into law, at least 738,929 learners were already enrolled in the system, according to data from Gatchalian\\'s office.'"
      ]
     },
     "execution_count": 13,
     "metadata": {},
     "output_type": "execute_result"
    }
   ],
   "source": [
    "test_text = data[\"0526bd0d-41bb-43fe-bdc9-dabeea9dcfaa\"][\"text\"]\n",
    "test_text"
   ]
  },
  {
   "cell_type": "code",
   "execution_count": 51,
   "id": "consolidated-stadium",
   "metadata": {},
   "outputs": [],
   "source": [
    "import spacy\n",
    "from spacytextblob.spacytextblob import SpacyTextBlob\n",
    "from statistics import mean\n",
    "\n",
    "def get_sentiment(text):\n",
    "    '''\n",
    "    subjectivity: 0.0 = objective, 1.0 = subjective\n",
    "    polarity: measures level of approval/disapproval\n",
    "    '''\n",
    "    nlp = spacy.load('en_core_web_sm')\n",
    "    nlp.add_pipe('spacytextblob')\n",
    "    doc = nlp(text)\n",
    "    subjectivity = doc._.subjectivity\n",
    "    polarity = doc._.polarity\n",
    "    return subjectivity, polarity"
   ]
  },
  {
   "cell_type": "code",
   "execution_count": 70,
   "id": "legislative-charity",
   "metadata": {},
   "outputs": [],
   "source": [
    "def get_quotation_sentiment(text):\n",
    "    '''\n",
    "    Get the number of direct quotations,\n",
    "    average subjectivity score and polarity score of quotations, None if no direct quotations\n",
    "    '''\n",
    "    quotes = pipeline.get_quotes(text)\n",
    "    sub_score_lst = []\n",
    "    pol_score_lst = []\n",
    "    num_quote = 0\n",
    "    for item in quotes:\n",
    "        item_text = str(item.content) #get quotation text\n",
    "#         print(item_text)\n",
    "        subjectivity, polarity = get_sentiment(item_text)\n",
    "        sub_score_lst.append(subjectivity)\n",
    "        pol_score_lst.append(polarity)\n",
    "        num_quote += 1\n",
    "    if num_quote == 0:\n",
    "        return num_quote, None, None\n",
    "    else:\n",
    "        return num_quote, mean(sub_score_lst), mean(pol_score_lst)"
   ]
  },
  {
   "cell_type": "code",
   "execution_count": 64,
   "id": "random-mouth",
   "metadata": {},
   "outputs": [
    {
     "name": "stdout",
     "output_type": "stream",
     "text": [
      "num_quote: 1\n",
      "num_quote: 2\n",
      "num_quote: 3\n",
      "num_quote: 4\n",
      "num_quote: 5\n",
      "num_quote: 6\n",
      "num_quote: 7\n",
      "num_quote: 8\n"
     ]
    }
   ],
   "source": [
    "get_quotation_sentiment(test_text)"
   ]
  },
  {
   "cell_type": "code",
   "execution_count": 71,
   "id": "painful-artwork",
   "metadata": {},
   "outputs": [],
   "source": [
    "for uid, info in data.items():\n",
    "    text = info['text']\n",
    "    num_quote, quote_subjectivity, quote_polarity = get_quotation_sentiment(text)\n",
    "    break"
   ]
  },
  {
   "cell_type": "markdown",
   "id": "neither-pressing",
   "metadata": {},
   "source": [
    "# Pipeline\n"
   ]
  },
  {
   "cell_type": "code",
   "execution_count": null,
   "id": "billion-granny",
   "metadata": {},
   "outputs": [
    {
     "name": "stderr",
     "output_type": "stream",
     "text": [
      "[nltk_data] Downloading package punkt to /Users/oooyyyzzz/nltk_data...\n",
      "[nltk_data]   Package punkt is already up-to-date!\n"
     ]
    }
   ],
   "source": [
    "result_dict = pipeline.get_training_features()"
   ]
  },
  {
   "cell_type": "code",
   "execution_count": null,
   "id": "lyric-minneapolis",
   "metadata": {},
   "outputs": [],
   "source": [
    "result_dict"
   ]
  },
  {
   "cell_type": "code",
   "execution_count": null,
   "id": "interracial-material",
   "metadata": {},
   "outputs": [],
   "source": [
    "result_df = pd.DataFrame.from_dict(result_dict)\n",
    "result_df"
   ]
  },
  {
   "cell_type": "code",
   "execution_count": 8,
   "id": "substantial-centre",
   "metadata": {},
   "outputs": [
    {
     "data": {
      "text/html": [
       "<div>\n",
       "<style scoped>\n",
       "    .dataframe tbody tr th:only-of-type {\n",
       "        vertical-align: middle;\n",
       "    }\n",
       "\n",
       "    .dataframe tbody tr th {\n",
       "        vertical-align: top;\n",
       "    }\n",
       "\n",
       "    .dataframe thead th {\n",
       "        text-align: right;\n",
       "    }\n",
       "</style>\n",
       "<table border=\"1\" class=\"dataframe\">\n",
       "  <thead>\n",
       "    <tr style=\"text-align: right;\">\n",
       "      <th></th>\n",
       "      <th>204f5d99-c9de-4bce-ae2f-5e98085b4930</th>\n",
       "      <th>0526bd0d-41bb-43fe-bdc9-dabeea9dcfaa</th>\n",
       "      <th>33e5aa3f-af33-461d-9e51-16a552e6b985</th>\n",
       "      <th>d10f9f69-204a-422d-886d-ff59f787fe22</th>\n",
       "      <th>88ffc85f-b495-4f59-af53-08a92030f9b7</th>\n",
       "      <th>6c0221c9-f3c9-4f6b-800e-685e75b317c1</th>\n",
       "      <th>e10be83f-75b7-40f8-b041-5bbb9f3f6d77</th>\n",
       "      <th>d65803ad-3800-4a16-b02b-fef589314fab</th>\n",
       "      <th>c0823b0b-16ee-46e3-955e-1bfd50300c3e</th>\n",
       "      <th>7cc09e87-92e3-48c6-aa65-f96fe480f2b0</th>\n",
       "      <th>648f5cc1-57dd-4d8c-b469-c7a483b757c0</th>\n",
       "    </tr>\n",
       "  </thead>\n",
       "  <tbody>\n",
       "    <tr>\n",
       "      <th>entity_num</th>\n",
       "      <td>54.0</td>\n",
       "      <td>22.000000</td>\n",
       "      <td>39.000000</td>\n",
       "      <td>33.0</td>\n",
       "      <td>36.0</td>\n",
       "      <td>15.000000</td>\n",
       "      <td>44.000000</td>\n",
       "      <td>122.000000</td>\n",
       "      <td>40.0</td>\n",
       "      <td>59.000000</td>\n",
       "      <td>23.000000</td>\n",
       "    </tr>\n",
       "    <tr>\n",
       "      <th>entity_type_num</th>\n",
       "      <td>9.0</td>\n",
       "      <td>8.000000</td>\n",
       "      <td>7.000000</td>\n",
       "      <td>8.0</td>\n",
       "      <td>8.0</td>\n",
       "      <td>7.000000</td>\n",
       "      <td>7.000000</td>\n",
       "      <td>12.000000</td>\n",
       "      <td>9.0</td>\n",
       "      <td>7.000000</td>\n",
       "      <td>7.000000</td>\n",
       "    </tr>\n",
       "    <tr>\n",
       "      <th>num_quote</th>\n",
       "      <td>0.0</td>\n",
       "      <td>8.000000</td>\n",
       "      <td>16.000000</td>\n",
       "      <td>NaN</td>\n",
       "      <td>NaN</td>\n",
       "      <td>3.000000</td>\n",
       "      <td>5.000000</td>\n",
       "      <td>12.000000</td>\n",
       "      <td>NaN</td>\n",
       "      <td>7.000000</td>\n",
       "      <td>4.000000</td>\n",
       "    </tr>\n",
       "    <tr>\n",
       "      <th>quote_subjectivity</th>\n",
       "      <td>NaN</td>\n",
       "      <td>0.128299</td>\n",
       "      <td>0.399621</td>\n",
       "      <td>NaN</td>\n",
       "      <td>NaN</td>\n",
       "      <td>0.022222</td>\n",
       "      <td>0.096667</td>\n",
       "      <td>0.377285</td>\n",
       "      <td>NaN</td>\n",
       "      <td>0.292354</td>\n",
       "      <td>0.490215</td>\n",
       "    </tr>\n",
       "    <tr>\n",
       "      <th>quote_polarity</th>\n",
       "      <td>NaN</td>\n",
       "      <td>0.048438</td>\n",
       "      <td>-0.031676</td>\n",
       "      <td>NaN</td>\n",
       "      <td>NaN</td>\n",
       "      <td>0.011111</td>\n",
       "      <td>0.045000</td>\n",
       "      <td>-0.045109</td>\n",
       "      <td>NaN</td>\n",
       "      <td>0.022103</td>\n",
       "      <td>-0.104672</td>\n",
       "    </tr>\n",
       "  </tbody>\n",
       "</table>\n",
       "</div>"
      ],
      "text/plain": [
       "                    204f5d99-c9de-4bce-ae2f-5e98085b4930  \\\n",
       "entity_num                                          54.0   \n",
       "entity_type_num                                      9.0   \n",
       "num_quote                                            0.0   \n",
       "quote_subjectivity                                   NaN   \n",
       "quote_polarity                                       NaN   \n",
       "\n",
       "                    0526bd0d-41bb-43fe-bdc9-dabeea9dcfaa  \\\n",
       "entity_num                                     22.000000   \n",
       "entity_type_num                                 8.000000   \n",
       "num_quote                                       8.000000   \n",
       "quote_subjectivity                              0.128299   \n",
       "quote_polarity                                  0.048438   \n",
       "\n",
       "                    33e5aa3f-af33-461d-9e51-16a552e6b985  \\\n",
       "entity_num                                     39.000000   \n",
       "entity_type_num                                 7.000000   \n",
       "num_quote                                      16.000000   \n",
       "quote_subjectivity                              0.399621   \n",
       "quote_polarity                                 -0.031676   \n",
       "\n",
       "                    d10f9f69-204a-422d-886d-ff59f787fe22  \\\n",
       "entity_num                                          33.0   \n",
       "entity_type_num                                      8.0   \n",
       "num_quote                                            NaN   \n",
       "quote_subjectivity                                   NaN   \n",
       "quote_polarity                                       NaN   \n",
       "\n",
       "                    88ffc85f-b495-4f59-af53-08a92030f9b7  \\\n",
       "entity_num                                          36.0   \n",
       "entity_type_num                                      8.0   \n",
       "num_quote                                            NaN   \n",
       "quote_subjectivity                                   NaN   \n",
       "quote_polarity                                       NaN   \n",
       "\n",
       "                    6c0221c9-f3c9-4f6b-800e-685e75b317c1  \\\n",
       "entity_num                                     15.000000   \n",
       "entity_type_num                                 7.000000   \n",
       "num_quote                                       3.000000   \n",
       "quote_subjectivity                              0.022222   \n",
       "quote_polarity                                  0.011111   \n",
       "\n",
       "                    e10be83f-75b7-40f8-b041-5bbb9f3f6d77  \\\n",
       "entity_num                                     44.000000   \n",
       "entity_type_num                                 7.000000   \n",
       "num_quote                                       5.000000   \n",
       "quote_subjectivity                              0.096667   \n",
       "quote_polarity                                  0.045000   \n",
       "\n",
       "                    d65803ad-3800-4a16-b02b-fef589314fab  \\\n",
       "entity_num                                    122.000000   \n",
       "entity_type_num                                12.000000   \n",
       "num_quote                                      12.000000   \n",
       "quote_subjectivity                              0.377285   \n",
       "quote_polarity                                 -0.045109   \n",
       "\n",
       "                    c0823b0b-16ee-46e3-955e-1bfd50300c3e  \\\n",
       "entity_num                                          40.0   \n",
       "entity_type_num                                      9.0   \n",
       "num_quote                                            NaN   \n",
       "quote_subjectivity                                   NaN   \n",
       "quote_polarity                                       NaN   \n",
       "\n",
       "                    7cc09e87-92e3-48c6-aa65-f96fe480f2b0  \\\n",
       "entity_num                                     59.000000   \n",
       "entity_type_num                                 7.000000   \n",
       "num_quote                                       7.000000   \n",
       "quote_subjectivity                              0.292354   \n",
       "quote_polarity                                  0.022103   \n",
       "\n",
       "                    648f5cc1-57dd-4d8c-b469-c7a483b757c0  \n",
       "entity_num                                     23.000000  \n",
       "entity_type_num                                 7.000000  \n",
       "num_quote                                       4.000000  \n",
       "quote_subjectivity                              0.490215  \n",
       "quote_polarity                                 -0.104672  "
      ]
     },
     "execution_count": 8,
     "metadata": {},
     "output_type": "execute_result"
    }
   ],
   "source": [
    "result_df = pd.DataFrame.from_dict(result_dict)\n",
    "result_df"
   ]
  },
  {
   "cell_type": "code",
   "execution_count": null,
   "id": "generic-financing",
   "metadata": {},
   "outputs": [],
   "source": [
    "result_df.transpose()"
   ]
  },
  {
   "cell_type": "code",
   "execution_count": null,
   "id": "dramatic-expansion",
   "metadata": {},
   "outputs": [],
   "source": [
    "# small trial\n",
    "def get_training_features():\n",
    "    '''\n",
    "    Pipeline of extracting entity and quotation features from dataset\n",
    "    '''\n",
    "    data = get_json_data('data.json')\n",
    "    result_dict = {}\n",
    "    count = 0 #\n",
    "    for uid, info in data.items():\n",
    "        \n",
    "        count += 1\n",
    "        text = info['text']\n",
    "        doc, token_lst = tokenize_text(text)\n",
    "        entity_dict, entity_num, entity_type_num = detect_entity(doc)\n",
    "        try:\n",
    "            num_quote, quote_subjectivity, quote_polarity = get_quotation_sentiment(text)\n",
    "        except:\n",
    "            num_quote, quote_subjectivity, quote_polarity = None, None, None\n",
    "        result_dict[uid] = {}\n",
    "        result_dict[uid]['entity_dict'] = entity_dict\n",
    "        result_dict[uid]['entity_num'] = entity_num\n",
    "        result_dict[uid]['entity_type_num'] = entity_type_num\n",
    "        result_dict[uid]['num_quote'] = num_quote\n",
    "        result_dict[uid]['quote_subjectivity'] = quote_subjectivity\n",
    "        result_dict[uid]['quote_polarity'] = quote_polarity\n",
    "        \n",
    "        if count > 10:\n",
    "            break\n",
    "    return result_dict"
   ]
  },
  {
   "cell_type": "code",
   "execution_count": null,
   "id": "rolled-bulgarian",
   "metadata": {},
   "outputs": [],
   "source": [
    "result_dict = pipeline.get_training_features()\n",
    "result_dict"
   ]
  },
  {
   "cell_type": "code",
   "execution_count": null,
   "id": "expired-brain",
   "metadata": {},
   "outputs": [],
   "source": []
  }
 ],
 "metadata": {
  "kernelspec": {
   "display_name": "Python 3",
   "language": "python",
   "name": "python3"
  },
  "language_info": {
   "codemirror_mode": {
    "name": "ipython",
    "version": 3
   },
   "file_extension": ".py",
   "mimetype": "text/x-python",
   "name": "python",
   "nbconvert_exporter": "python",
   "pygments_lexer": "ipython3",
   "version": "3.8.8"
  }
 },
 "nbformat": 4,
 "nbformat_minor": 5
}
