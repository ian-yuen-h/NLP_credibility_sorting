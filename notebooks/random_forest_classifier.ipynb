{
 "cells": [
  {
   "cell_type": "code",
   "execution_count": null,
   "metadata": {},
   "outputs": [],
   "source": []
  },
  {
   "cell_type": "markdown",
   "metadata": {
    "jupyter": {
     "source_hidden": true
    },
    "tags": []
   },
   "source": [
    "# Random Forest Classifier for Prediction"
   ]
  },
  {
   "cell_type": "markdown",
   "metadata": {
    "jupyter": {
     "source_hidden": true
    },
    "tags": []
   },
   "source": [
    "Load dataset"
   ]
  },
  {
   "cell_type": "code",
   "execution_count": 43,
   "metadata": {
    "jupyter": {
     "source_hidden": true
    },
    "tags": []
   },
   "outputs": [],
   "source": [
    "import pandas as pd\n",
    "df = pd.read_csv('features.csv')"
   ]
  },
  {
   "cell_type": "code",
   "execution_count": 44,
   "metadata": {
    "collapsed": true,
    "jupyter": {
     "outputs_hidden": true,
     "source_hidden": true
    },
    "tags": []
   },
   "outputs": [
    {
     "data": {
      "text/html": [
       "<div>\n",
       "<style scoped>\n",
       "    .dataframe tbody tr th:only-of-type {\n",
       "        vertical-align: middle;\n",
       "    }\n",
       "\n",
       "    .dataframe tbody tr th {\n",
       "        vertical-align: top;\n",
       "    }\n",
       "\n",
       "    .dataframe thead th {\n",
       "        text-align: right;\n",
       "    }\n",
       "</style>\n",
       "<table border=\"1\" class=\"dataframe\">\n",
       "  <thead>\n",
       "    <tr style=\"text-align: right;\">\n",
       "      <th></th>\n",
       "      <th>id</th>\n",
       "      <th>polarity</th>\n",
       "      <th>subjectivity</th>\n",
       "      <th>cred_score</th>\n",
       "      <th>publisher_val</th>\n",
       "      <th>publisher</th>\n",
       "      <th>entity_dict</th>\n",
       "      <th>entity_num</th>\n",
       "      <th>entity_type_num</th>\n",
       "      <th>num_quote</th>\n",
       "      <th>quote_subjectivity</th>\n",
       "      <th>quote_polarity</th>\n",
       "      <th>num_sentences</th>\n",
       "      <th>polarity_avg</th>\n",
       "      <th>polarity sd</th>\n",
       "      <th>polarity median</th>\n",
       "      <th>polarity min-max</th>\n",
       "      <th>polarity range</th>\n",
       "    </tr>\n",
       "  </thead>\n",
       "  <tbody>\n",
       "    <tr>\n",
       "      <th>0</th>\n",
       "      <td>204f5d99-c9de-4bce-ae2f-5e98085b4930</td>\n",
       "      <td>0.143893</td>\n",
       "      <td>0.459627</td>\n",
       "      <td>medium</td>\n",
       "      <td>0</td>\n",
       "      <td>gazette</td>\n",
       "      <td>{'PERSON': ['Dianne Primavera', 'Scott Helker'...</td>\n",
       "      <td>54</td>\n",
       "      <td>9</td>\n",
       "      <td>0.0</td>\n",
       "      <td>0.000000</td>\n",
       "      <td>0.000000</td>\n",
       "      <td>67</td>\n",
       "      <td>0.098586</td>\n",
       "      <td>0.996120</td>\n",
       "      <td>0.512702</td>\n",
       "      <td>0.999765</td>\n",
       "      <td>0.487063</td>\n",
       "    </tr>\n",
       "    <tr>\n",
       "      <th>1</th>\n",
       "      <td>0526bd0d-41bb-43fe-bdc9-dabeea9dcfaa</td>\n",
       "      <td>0.031300</td>\n",
       "      <td>0.304625</td>\n",
       "      <td>high</td>\n",
       "      <td>1</td>\n",
       "      <td>abs-cbnnews</td>\n",
       "      <td>{'PERSON': ['Sherwin Gatchalian'], 'CARDINAL':...</td>\n",
       "      <td>22</td>\n",
       "      <td>8</td>\n",
       "      <td>8.0</td>\n",
       "      <td>0.128299</td>\n",
       "      <td>0.048438</td>\n",
       "      <td>14</td>\n",
       "      <td>0.104742</td>\n",
       "      <td>0.970806</td>\n",
       "      <td>0.649317</td>\n",
       "      <td>0.997335</td>\n",
       "      <td>0.348019</td>\n",
       "    </tr>\n",
       "    <tr>\n",
       "      <th>2</th>\n",
       "      <td>33e5aa3f-af33-461d-9e51-16a552e6b985</td>\n",
       "      <td>-0.022487</td>\n",
       "      <td>0.393404</td>\n",
       "      <td>high</td>\n",
       "      <td>1</td>\n",
       "      <td>abs-cbnnews</td>\n",
       "      <td>{'PERSON': ['Juan Ponce Enrile', 'Leila de Lim...</td>\n",
       "      <td>39</td>\n",
       "      <td>7</td>\n",
       "      <td>16.0</td>\n",
       "      <td>0.399621</td>\n",
       "      <td>-0.031676</td>\n",
       "      <td>38</td>\n",
       "      <td>0.148517</td>\n",
       "      <td>0.983013</td>\n",
       "      <td>0.534387</td>\n",
       "      <td>0.999732</td>\n",
       "      <td>0.465345</td>\n",
       "    </tr>\n",
       "    <tr>\n",
       "      <th>3</th>\n",
       "      <td>d10f9f69-204a-422d-886d-ff59f787fe22</td>\n",
       "      <td>0.099619</td>\n",
       "      <td>0.325952</td>\n",
       "      <td>high</td>\n",
       "      <td>1</td>\n",
       "      <td>abs-cbnnews</td>\n",
       "      <td>{'PERSON': ['Ann Wang', 'Fidel Macauyag', 'Ang...</td>\n",
       "      <td>33</td>\n",
       "      <td>8</td>\n",
       "      <td>0.0</td>\n",
       "      <td>0.000000</td>\n",
       "      <td>0.000000</td>\n",
       "      <td>14</td>\n",
       "      <td>0.121905</td>\n",
       "      <td>0.989187</td>\n",
       "      <td>0.519855</td>\n",
       "      <td>0.998280</td>\n",
       "      <td>0.478425</td>\n",
       "    </tr>\n",
       "    <tr>\n",
       "      <th>4</th>\n",
       "      <td>88ffc85f-b495-4f59-af53-08a92030f9b7</td>\n",
       "      <td>0.030585</td>\n",
       "      <td>0.354436</td>\n",
       "      <td>high</td>\n",
       "      <td>1</td>\n",
       "      <td>abs-cbnnews</td>\n",
       "      <td>{'PERSON': ['Juan Ponce Enrile', 'Mike Navallo...</td>\n",
       "      <td>36</td>\n",
       "      <td>8</td>\n",
       "      <td>0.0</td>\n",
       "      <td>0.000000</td>\n",
       "      <td>0.000000</td>\n",
       "      <td>20</td>\n",
       "      <td>0.125476</td>\n",
       "      <td>0.978501</td>\n",
       "      <td>0.552804</td>\n",
       "      <td>0.999631</td>\n",
       "      <td>0.446827</td>\n",
       "    </tr>\n",
       "    <tr>\n",
       "      <th>...</th>\n",
       "      <td>...</td>\n",
       "      <td>...</td>\n",
       "      <td>...</td>\n",
       "      <td>...</td>\n",
       "      <td>...</td>\n",
       "      <td>...</td>\n",
       "      <td>...</td>\n",
       "      <td>...</td>\n",
       "      <td>...</td>\n",
       "      <td>...</td>\n",
       "      <td>...</td>\n",
       "      <td>...</td>\n",
       "      <td>...</td>\n",
       "      <td>...</td>\n",
       "      <td>...</td>\n",
       "      <td>...</td>\n",
       "      <td>...</td>\n",
       "      <td>...</td>\n",
       "    </tr>\n",
       "    <tr>\n",
       "      <th>40676</th>\n",
       "      <td>9634e440-9a90-491e-8db6-e47c9d8b9365</td>\n",
       "      <td>0.443056</td>\n",
       "      <td>0.888889</td>\n",
       "      <td>medium</td>\n",
       "      <td>1462</td>\n",
       "      <td>0</td>\n",
       "      <td>{'PERSON': ['de la loi', 'la loi', 'Moi qui', ...</td>\n",
       "      <td>51</td>\n",
       "      <td>8</td>\n",
       "      <td>0.0</td>\n",
       "      <td>0.000000</td>\n",
       "      <td>0.000000</td>\n",
       "      <td>28</td>\n",
       "      <td>0.138213</td>\n",
       "      <td>0.939167</td>\n",
       "      <td>0.522224</td>\n",
       "      <td>0.996462</td>\n",
       "      <td>0.474239</td>\n",
       "    </tr>\n",
       "    <tr>\n",
       "      <th>40677</th>\n",
       "      <td>e31459f3-7f90-4b5b-9f9f-f64dd7c27a95</td>\n",
       "      <td>0.275000</td>\n",
       "      <td>0.500000</td>\n",
       "      <td>high</td>\n",
       "      <td>1496</td>\n",
       "      <td>0</td>\n",
       "      <td>{'PERSON': ['nos yeux', '(de l’aide', 'colonne...</td>\n",
       "      <td>54</td>\n",
       "      <td>11</td>\n",
       "      <td>0.0</td>\n",
       "      <td>0.000000</td>\n",
       "      <td>0.000000</td>\n",
       "      <td>35</td>\n",
       "      <td>0.135245</td>\n",
       "      <td>0.909855</td>\n",
       "      <td>0.515787</td>\n",
       "      <td>0.981923</td>\n",
       "      <td>0.466135</td>\n",
       "    </tr>\n",
       "    <tr>\n",
       "      <th>40678</th>\n",
       "      <td>e7b08fa7-f9c3-47b6-96b0-af8d4171f9c3</td>\n",
       "      <td>-0.495238</td>\n",
       "      <td>0.866667</td>\n",
       "      <td>high</td>\n",
       "      <td>1496</td>\n",
       "      <td>0</td>\n",
       "      <td>{'PERSON': ['Rosemary DiCarlo', 'de nationalit...</td>\n",
       "      <td>44</td>\n",
       "      <td>4</td>\n",
       "      <td>1.0</td>\n",
       "      <td>0.533333</td>\n",
       "      <td>-0.383333</td>\n",
       "      <td>17</td>\n",
       "      <td>0.149226</td>\n",
       "      <td>0.889700</td>\n",
       "      <td>0.548900</td>\n",
       "      <td>0.989486</td>\n",
       "      <td>0.440587</td>\n",
       "    </tr>\n",
       "    <tr>\n",
       "      <th>40679</th>\n",
       "      <td>4d99cf53-bd69-492a-8493-041b553f8543</td>\n",
       "      <td>0.284615</td>\n",
       "      <td>0.623077</td>\n",
       "      <td>high</td>\n",
       "      <td>1496</td>\n",
       "      <td>0</td>\n",
       "      <td>{'PERSON': ['de haine et de', 'autorités ghané...</td>\n",
       "      <td>102</td>\n",
       "      <td>13</td>\n",
       "      <td>0.0</td>\n",
       "      <td>0.000000</td>\n",
       "      <td>0.000000</td>\n",
       "      <td>38</td>\n",
       "      <td>0.145836</td>\n",
       "      <td>0.796014</td>\n",
       "      <td>0.531077</td>\n",
       "      <td>0.967778</td>\n",
       "      <td>0.436701</td>\n",
       "    </tr>\n",
       "    <tr>\n",
       "      <th>40680</th>\n",
       "      <td>d15b8cdb-828d-4af5-9658-a26987ef12bc</td>\n",
       "      <td>-0.238889</td>\n",
       "      <td>0.800000</td>\n",
       "      <td>medium</td>\n",
       "      <td>2029</td>\n",
       "      <td>0</td>\n",
       "      <td>{'PERSON': ['de capacités des autorités', 'de ...</td>\n",
       "      <td>114</td>\n",
       "      <td>9</td>\n",
       "      <td>0.0</td>\n",
       "      <td>0.000000</td>\n",
       "      <td>0.000000</td>\n",
       "      <td>58</td>\n",
       "      <td>0.145568</td>\n",
       "      <td>0.852751</td>\n",
       "      <td>0.530323</td>\n",
       "      <td>0.996932</td>\n",
       "      <td>0.466609</td>\n",
       "    </tr>\n",
       "  </tbody>\n",
       "</table>\n",
       "<p>40681 rows × 18 columns</p>\n",
       "</div>"
      ],
      "text/plain": [
       "                                         id  polarity  subjectivity  \\\n",
       "0      204f5d99-c9de-4bce-ae2f-5e98085b4930  0.143893      0.459627   \n",
       "1      0526bd0d-41bb-43fe-bdc9-dabeea9dcfaa  0.031300      0.304625   \n",
       "2      33e5aa3f-af33-461d-9e51-16a552e6b985 -0.022487      0.393404   \n",
       "3      d10f9f69-204a-422d-886d-ff59f787fe22  0.099619      0.325952   \n",
       "4      88ffc85f-b495-4f59-af53-08a92030f9b7  0.030585      0.354436   \n",
       "...                                     ...       ...           ...   \n",
       "40676  9634e440-9a90-491e-8db6-e47c9d8b9365  0.443056      0.888889   \n",
       "40677  e31459f3-7f90-4b5b-9f9f-f64dd7c27a95  0.275000      0.500000   \n",
       "40678  e7b08fa7-f9c3-47b6-96b0-af8d4171f9c3 -0.495238      0.866667   \n",
       "40679  4d99cf53-bd69-492a-8493-041b553f8543  0.284615      0.623077   \n",
       "40680  d15b8cdb-828d-4af5-9658-a26987ef12bc -0.238889      0.800000   \n",
       "\n",
       "      cred_score  publisher_val    publisher  \\\n",
       "0         medium              0      gazette   \n",
       "1           high              1  abs-cbnnews   \n",
       "2           high              1  abs-cbnnews   \n",
       "3           high              1  abs-cbnnews   \n",
       "4           high              1  abs-cbnnews   \n",
       "...          ...            ...          ...   \n",
       "40676     medium           1462            0   \n",
       "40677       high           1496            0   \n",
       "40678       high           1496            0   \n",
       "40679       high           1496            0   \n",
       "40680     medium           2029            0   \n",
       "\n",
       "                                             entity_dict  entity_num  \\\n",
       "0      {'PERSON': ['Dianne Primavera', 'Scott Helker'...          54   \n",
       "1      {'PERSON': ['Sherwin Gatchalian'], 'CARDINAL':...          22   \n",
       "2      {'PERSON': ['Juan Ponce Enrile', 'Leila de Lim...          39   \n",
       "3      {'PERSON': ['Ann Wang', 'Fidel Macauyag', 'Ang...          33   \n",
       "4      {'PERSON': ['Juan Ponce Enrile', 'Mike Navallo...          36   \n",
       "...                                                  ...         ...   \n",
       "40676  {'PERSON': ['de la loi', 'la loi', 'Moi qui', ...          51   \n",
       "40677  {'PERSON': ['nos yeux', '(de l’aide', 'colonne...          54   \n",
       "40678  {'PERSON': ['Rosemary DiCarlo', 'de nationalit...          44   \n",
       "40679  {'PERSON': ['de haine et de', 'autorités ghané...         102   \n",
       "40680  {'PERSON': ['de capacités des autorités', 'de ...         114   \n",
       "\n",
       "       entity_type_num  num_quote  quote_subjectivity  quote_polarity  \\\n",
       "0                    9        0.0            0.000000        0.000000   \n",
       "1                    8        8.0            0.128299        0.048438   \n",
       "2                    7       16.0            0.399621       -0.031676   \n",
       "3                    8        0.0            0.000000        0.000000   \n",
       "4                    8        0.0            0.000000        0.000000   \n",
       "...                ...        ...                 ...             ...   \n",
       "40676                8        0.0            0.000000        0.000000   \n",
       "40677               11        0.0            0.000000        0.000000   \n",
       "40678                4        1.0            0.533333       -0.383333   \n",
       "40679               13        0.0            0.000000        0.000000   \n",
       "40680                9        0.0            0.000000        0.000000   \n",
       "\n",
       "       num_sentences  polarity_avg  polarity sd  polarity median  \\\n",
       "0                 67      0.098586     0.996120         0.512702   \n",
       "1                 14      0.104742     0.970806         0.649317   \n",
       "2                 38      0.148517     0.983013         0.534387   \n",
       "3                 14      0.121905     0.989187         0.519855   \n",
       "4                 20      0.125476     0.978501         0.552804   \n",
       "...              ...           ...          ...              ...   \n",
       "40676             28      0.138213     0.939167         0.522224   \n",
       "40677             35      0.135245     0.909855         0.515787   \n",
       "40678             17      0.149226     0.889700         0.548900   \n",
       "40679             38      0.145836     0.796014         0.531077   \n",
       "40680             58      0.145568     0.852751         0.530323   \n",
       "\n",
       "       polarity min-max  polarity range  \n",
       "0              0.999765        0.487063  \n",
       "1              0.997335        0.348019  \n",
       "2              0.999732        0.465345  \n",
       "3              0.998280        0.478425  \n",
       "4              0.999631        0.446827  \n",
       "...                 ...             ...  \n",
       "40676          0.996462        0.474239  \n",
       "40677          0.981923        0.466135  \n",
       "40678          0.989486        0.440587  \n",
       "40679          0.967778        0.436701  \n",
       "40680          0.996932        0.466609  \n",
       "\n",
       "[40681 rows x 18 columns]"
      ]
     },
     "execution_count": 44,
     "metadata": {},
     "output_type": "execute_result"
    }
   ],
   "source": [
    "df.fillna(0)"
   ]
  },
  {
   "cell_type": "markdown",
   "metadata": {
    "jupyter": {
     "source_hidden": true
    },
    "tags": []
   },
   "source": [
    "Map credibility score values to integers"
   ]
  },
  {
   "cell_type": "code",
   "execution_count": 11,
   "metadata": {
    "jupyter": {
     "source_hidden": true
    },
    "tags": []
   },
   "outputs": [],
   "source": [
    "# d = {'low':0, 'medium':1, 'high':2}\n",
    "d = {'medium':1, 'high':2}\n",
    "df['cred_score'] = df['cred_score'].map(d)"
   ]
  },
  {
   "cell_type": "markdown",
   "metadata": {
    "jupyter": {
     "source_hidden": true
    },
    "tags": []
   },
   "source": [
    "Separate the dataset columns into dependent and independent variables (features and labels) and then split the variables into training and testing set"
   ]
  },
  {
   "cell_type": "code",
   "execution_count": 12,
   "metadata": {
    "jupyter": {
     "source_hidden": true
    },
    "tags": []
   },
   "outputs": [],
   "source": [
    "# import train_test_split function\n",
    "from sklearn.model_selection import train_test_split\n",
    "\n",
    "features = ['polarity', 'subjectivity', 'publisher_val', 'entity_num', 'entity_type_num', 'num_quote', 'quote_subjectivity', 'quote_polarity', \n",
    "            'num_sentences', 'polarity_avg', 'polarity sd', 'polarity median', 'polarity min-max', 'polarity range']\n",
    "\n",
    "labels = ['cred_score']\n",
    "\n",
    "X = df[features]\n",
    "y = df[labels]\n",
    "\n",
    "# split data into train & test set\n",
    "X_train, X_test, y_train, y_test = train_test_split(X, y, test_size=0.1)  # 10% testing and 90% training"
   ]
  },
  {
   "cell_type": "code",
   "execution_count": 41,
   "metadata": {
    "collapsed": true,
    "jupyter": {
     "outputs_hidden": true,
     "source_hidden": true
    },
    "tags": []
   },
   "outputs": [
    {
     "data": {
      "text/plain": [
       "False"
      ]
     },
     "execution_count": 41,
     "metadata": {},
     "output_type": "execute_result"
    }
   ],
   "source": [
    "# prevent \"Input contains NaN, infinity or a value too large for dtype('float32').\" error when fitting models\n",
    "df = df.reset_index()\n",
    "df.fillna(0)\n",
    "\n",
    "X_test.fillna(X_train.mean(), inplace=True)\n",
    "X_test.fillna(X_test.mean())\n",
    "X_train.fillna(X_train.mean())\n",
    "X_test = X_test.fillna(X_train.mean())\n",
    "X_test._is_view"
   ]
  },
  {
   "cell_type": "markdown",
   "metadata": {
    "id": "OOJA1V7IYV8e",
    "tags": []
   },
   "source": [
    "# Define functions to report performance information on models."
   ]
  },
  {
   "cell_type": "code",
   "execution_count": 155,
   "metadata": {
    "tags": []
   },
   "outputs": [],
   "source": [
    "# fit a defined model\n",
    "def train_model(model):\n",
    "    model.fit(X_train.fillna(0), y_train.values.ravel())"
   ]
  },
  {
   "cell_type": "code",
   "execution_count": 156,
   "metadata": {
    "tags": []
   },
   "outputs": [],
   "source": [
    "# get the set of labels predicted by the model\n",
    "def get_predicted_labels(model, X_test):\n",
    "    labels = model.predict(X_test)\n",
    "    return labels"
   ]
  },
  {
   "cell_type": "code",
   "execution_count": 157,
   "metadata": {
    "tags": []
   },
   "outputs": [],
   "source": [
    "# y_test is already defined, y_pred comes from the model\n",
    "def print_model_accuracy(y_test, y_pred):\n",
    "    accuracy = metrics.accuracy_score(y_test, y_pred)\n",
    "    print(f\"Accuracy Score: {accuracy}\")"
   ]
  },
  {
   "cell_type": "code",
   "execution_count": 203,
   "metadata": {
    "tags": []
   },
   "outputs": [],
   "source": [
    "# calculate and return feature importance scores using the classifier's feature_importances_ function\n",
    "def display_model_feature_importance(model, features):\n",
    "    print(\"Feature Importance from Model\")\n",
    "    print('-'*30)\n",
    "    # calculate feature importance scores\n",
    "    # importance_scores = pd.Series(model.feature_importances_, index=features).sort_values(ascending=False)\n",
    "    # importance_scores = model.best_estimator_._final_estimator.feature_importances_\n",
    "    importance_scores = np.mean([tree.feature_importances_ for tree in model.estimators_], axis=0)\n",
    "    \n",
    "    # print features & their scores\n",
    "    print_importance_scores(importance_scores)\n",
    "    \n",
    "    # create bar graph and display features & their scores using seaborn\n",
    "    sb.barplot(x=importance_scores, y=features)  # y=importance_scores.index\n",
    "    \n",
    "    # add labels\n",
    "    plt.title(\"Model's Feature Importance Graph\")\n",
    "    plt.xlabel('Importance Scores')\n",
    "    plt.ylabel('Features')\n",
    "    plt.show()"
   ]
  },
  {
   "cell_type": "code",
   "execution_count": 179,
   "metadata": {
    "tags": []
   },
   "outputs": [],
   "source": [
    "from sklearn.inspection import permutation_importance\n",
    "\n",
    "# calculate and return feature importance using permutation_importance\n",
    "def display_permutation_feature_importance(model, X):\n",
    "    print(\"Permutation Feature Importance\")\n",
    "    print('-'*30)\n",
    "    # calculate permutation importance\n",
    "    results = permutation_importance(model, X.fillna(0), y, scoring='accuracy')\n",
    "    importance_scores = results.importances_mean\n",
    "    \n",
    "    # print features & their scores\n",
    "    print_importance_scores(importance_scores)\n",
    "\n",
    "    # create bar graph and display features & their scores using seaborn\n",
    "    sb.barplot(x=importance_scores, y=list(X.columns))\n",
    "    \n",
    "    # add labels\n",
    "    plt.title('Permutation Feature Importance Graph')\n",
    "    plt.xlabel('Importance Scores')\n",
    "    plt.ylabel('Features')\n",
    "    plt.show()"
   ]
  },
  {
   "cell_type": "code",
   "execution_count": 196,
   "metadata": {
    "tags": []
   },
   "outputs": [],
   "source": [
    "import numpy as np\n",
    "import matplotlib.pyplot as plt\n",
    "\n",
    "# get the feature importance based on Mean Decrease in Impurity\n",
    "def display_mdi_feature_importance(model, features):\n",
    "    print(\"Feature Importance based on Mean Decrease in Impurity(MDI)\")\n",
    "    print('-'*50)\n",
    "    # importances = model.feature_importances_\n",
    "    importances = np.mean([tree.feature_importances_ for tree in model.estimators_], axis=0)\n",
    "    std = np.std([tree.feature_importances_ for tree in model.estimators_], axis=0)\n",
    "    importance_scores = pd.Series(importances, index=features)\n",
    "    model_importances = pd.Series(importances, index=features)\n",
    "\n",
    "    # plot the features and their scores on a bar graph using matplotlib\n",
    "    fig, ax = plt.subplots()\n",
    "    model_importances.plot.bar(yerr=std, ax=ax)\n",
    "    ax.set_title(\"Feature importances using MDI\")\n",
    "    ax.set_ylabel(\"Mean decrease in impurity\")\n",
    "    fig.tight_layout()"
   ]
  },
  {
   "cell_type": "code",
   "execution_count": 161,
   "metadata": {
    "tags": []
   },
   "outputs": [],
   "source": [
    "# print feature importance scores\n",
    "def print_importance_scores(importance_scores):\n",
    "    for i,v in enumerate(importance_scores):\n",
    "        print('Feature: %0d, Score: %.5f' % (i,v))"
   ]
  },
  {
   "cell_type": "code",
   "execution_count": 180,
   "metadata": {
    "tags": []
   },
   "outputs": [],
   "source": [
    "import random\n",
    "from sklearn.metrics import classification_report\n",
    "\n",
    "# get the labels predicted by a model, pass to the function & print the classification report\n",
    "def display_classification_report(y_pred):\n",
    "    print(\"Classification Report:\")\n",
    "    print('-'*22)\n",
    "    y_true = [random.randint(0,2) for _ in range(len(y_pred))]  # randomly generated true values\n",
    "    target_names = ['medium', 'high']\n",
    "    print(classification_report(y_true, y_pred, target_names=target_names, labels=[1,2]))"
   ]
  },
  {
   "cell_type": "code",
   "execution_count": 163,
   "metadata": {
    "tags": []
   },
   "outputs": [],
   "source": [
    "# import confusion matrix from metrics package\n",
    "from sklearn.metrics import confusion_matrix\n",
    "\n",
    "# create a confusion matrix\n",
    "def create_confusion_matrix(y_test, y_pred):  # evaluating the classifier using metrics\n",
    "    cm = confusion_matrix(y_test, y_pred)\n",
    "    cm_df = pd.DataFrame(cm, columns=['Predicted Negative', 'Predicted Positive'], index=['Actual Negative', 'Actual Positive'])\n",
    "    return cm_df"
   ]
  },
  {
   "cell_type": "code",
   "execution_count": 184,
   "metadata": {
    "tags": []
   },
   "outputs": [],
   "source": [
    "# report metrics using values from the confusion matrix\n",
    "def report_classification_metrics(cm):\n",
    "    print(\"\\nClassification Metrics:\")\n",
    "    print('-'*23)\n",
    "    TP = cm['Predicted Positive'][1]\n",
    "    TN = cm['Predicted Negative'][0]\n",
    "    FP = cm['Predicted Positive'][0]\n",
    "    FN = cm['Predicted Negative'][1]\n",
    "    \n",
    "    print(f'True Positives: {TP}')\n",
    "    print(f'True Negatives: {TN}')\n",
    "    print(f'False Positives: {FP}')\n",
    "    print(f'False Negatives: {FN}')\n",
    "    print()\n",
    "    \n",
    "    # calculate True Positive Rate & False Positive Rate\n",
    "    TPR = TP/(TP+FN)\n",
    "    FPR = FP/(FP+TN)\n",
    "    print(f'True Positive Rate: {TPR}')\n",
    "    print(f'False Positive Rate: {FPR}')\n",
    "    \n",
    "    # calculate the six metrics that matter\n",
    "    total = sum([TP, TN, FP, FN])\n",
    "    accuracy = (float(TP+TN)/float(total))\n",
    "    mis_classification = 1 - accuracy\n",
    "    sensitivity = (TP/float(FN+TP))\n",
    "    specificity = (TN/float(TN+FP))\n",
    "    precision = (TP/float(TP+FP))\n",
    "    f1_score = 2 * ((precision * sensitivity)/(precision + sensitivity))\n",
    "    \n",
    "    # display results\n",
    "    print(\"\\nThe 6 metrics:\")\n",
    "    print('-'*15)\n",
    "    print(f'Accuracy: {round(accuracy, 2)}')\n",
    "    print(f'Mis-classification: {round(mis_classification, 2)}')\n",
    "    print(f'Sensitivity: {round(sensitivity, 2)}')\n",
    "    print(f'Specificty: {round(specificity, 2)}')\n",
    "    print(f'Precision: {round(precision, 2)}')\n",
    "    print(f'F1 Score: {round(f1_score, 2)}')"
   ]
  },
  {
   "cell_type": "code",
   "execution_count": 165,
   "metadata": {
    "tags": []
   },
   "outputs": [],
   "source": [
    "from sklearn.metrics import roc_auc_score\n",
    "\n",
    "# calculate & display the roc auc score\n",
    "def print_roc_auc_score(model, X, y):\n",
    "    score = roc_auc_score(y, model.predict_proba(X.fillna(0))[:, 1])\n",
    "    print(f'ROC AUC Score: {score}')"
   ]
  },
  {
   "cell_type": "code",
   "execution_count": 166,
   "metadata": {
    "tags": []
   },
   "outputs": [],
   "source": [
    "# calculate & display the mean roc auc score\n",
    "def print_mean_roc_auc_score(model, X, y):  # takes a model & displays the results, plots a ROC AUC graph\n",
    "    cv = RepeatedStratifiedKFold(n_splits=10, n_repeats=3, random_state=1)\n",
    "    scores = cross_val_score(model, X.fillna(0), y, scoring='roc_auc', cv=cv, n_jobs=-1)\n",
    "    mean_score = mean(scores)\n",
    "    print(f'Mean ROC AUC Score: {mean_score}')"
   ]
  },
  {
   "cell_type": "code",
   "execution_count": 167,
   "metadata": {
    "tags": []
   },
   "outputs": [],
   "source": [
    "import matplotlib.pyplot as plt  \n",
    "from sklearn import datasets, metrics, model_selection, svm\n",
    "\n",
    "def plot_roc_curve(model):\n",
    "    metrics.plot_roc_curve(model, X_test, y_test)\n",
    "    plt.title('ROC Curve')\n",
    "    plt.ylabel('True Positive Rate')\n",
    "    plt.xlabel('False Positive Rate')\n",
    "    plt.show()"
   ]
  },
  {
   "cell_type": "code",
   "execution_count": 185,
   "metadata": {
    "tags": []
   },
   "outputs": [],
   "source": [
    "# takes a model & prints all info associated with the model\n",
    "def analyze_model(model, X, X_test, y_test, features):\n",
    "    train_model(model)\n",
    "    y_pred = get_predicted_labels(model, X_test)\n",
    "    print_model_accuracy(y_test, y_pred)\n",
    "    print()\n",
    "    display_model_feature_importance(model, features)\n",
    "    display_permutation_feature_importance(model, X)\n",
    "    display_mdi_feature_importance(model, features)\n",
    "    print()\n",
    "    display_classification_report(y_pred)\n",
    "    cm = create_confusion_matrix(y_test, y_pred)\n",
    "    print(\"\\nConfusion Matrix:\")\n",
    "    display(cm)\n",
    "    report_classification_metrics(cm)\n",
    "    print()\n",
    "    print_roc_auc_score(model, X, y)\n",
    "    print()\n",
    "    print_mean_roc_auc_score(rfc_model, X, y)\n",
    "    print()\n",
    "    plot_roc_curve(rfc_model)"
   ]
  },
  {
   "cell_type": "raw",
   "metadata": {
    "tags": []
   },
   "source": [
    "3. have a threshold and if the importance score of a feature meets the threshold, it should be added to the next model"
   ]
  },
  {
   "cell_type": "markdown",
   "metadata": {
    "tags": []
   },
   "source": [
    "# End of functions definition"
   ]
  },
  {
   "cell_type": "code",
   "execution_count": 186,
   "metadata": {},
   "outputs": [
    {
     "name": "stdout",
     "output_type": "stream",
     "text": [
      "Accuracy Score: 0.9107888916195626\n",
      "\n",
      "Feature Importance from Model\n",
      "------------------------------\n",
      "Feature: 0, Score: 0.28152\n",
      "Feature: 1, Score: 0.08219\n",
      "Feature: 2, Score: 0.07864\n",
      "Feature: 3, Score: 0.06959\n",
      "Feature: 4, Score: 0.06731\n",
      "Feature: 5, Score: 0.06725\n",
      "Feature: 6, Score: 0.06403\n",
      "Feature: 7, Score: 0.06212\n",
      "Feature: 8, Score: 0.06037\n",
      "Feature: 9, Score: 0.05471\n",
      "Feature: 10, Score: 0.03748\n",
      "Feature: 11, Score: 0.02845\n",
      "Feature: 12, Score: 0.02531\n",
      "Feature: 13, Score: 0.02103\n"
     ]
    },
    {
     "data": {
      "image/png": "[encoded data removed]",
      "text/plain": [
       "<Figure size 432x288 with 1 Axes>"
      ]
     },
     "metadata": {
      "needs_background": "light"
     },
     "output_type": "display_data"
    },
    {
     "name": "stdout",
     "output_type": "stream",
     "text": [
      "Permutation Feature Importance\n",
      "------------------------------\n",
      "Feature: 0, Score: 0.01531\n",
      "Feature: 1, Score: 0.00886\n",
      "Feature: 2, Score: 0.12202\n",
      "Feature: 3, Score: 0.01884\n",
      "Feature: 4, Score: 0.00163\n",
      "Feature: 5, Score: 0.00145\n",
      "Feature: 6, Score: 0.00217\n",
      "Feature: 7, Score: 0.00191\n",
      "Feature: 8, Score: 0.00797\n",
      "Feature: 9, Score: 0.00533\n",
      "Feature: 10, Score: 0.01813\n",
      "Feature: 11, Score: 0.00189\n",
      "Feature: 12, Score: 0.01272\n",
      "Feature: 13, Score: 0.00245\n"
     ]
    },
    {
     "data": {
      "image/png": "[encoded data removed]",
      "text/plain": [
       "<Figure size 432x288 with 1 Axes>"
      ]
     },
     "metadata": {
      "needs_background": "light"
     },
     "output_type": "display_data"
    },
    {
     "name": "stdout",
     "output_type": "stream",
     "text": [
      "Feature Importance based on Mean Decrease in Impurity(MDI)\n",
      "------------------------------\n",
      "\n",
      "Classification Report:\n",
      "----------------------\n",
      "              precision    recall  f1-score   support\n",
      "\n",
      "      medium       0.35      0.09      0.14      1412\n",
      "        high       0.32      0.91      0.48      1313\n",
      "\n",
      "   micro avg       0.33      0.49      0.39      2725\n",
      "   macro avg       0.34      0.50      0.31      2725\n",
      "weighted avg       0.34      0.49      0.30      2725\n",
      "\n",
      "\n",
      "Confusion Matrix:\n"
     ]
    },
    {
     "data": {
      "text/html": [
       "<div>\n",
       "<style scoped>\n",
       "    .dataframe tbody tr th:only-of-type {\n",
       "        vertical-align: middle;\n",
       "    }\n",
       "\n",
       "    .dataframe tbody tr th {\n",
       "        vertical-align: top;\n",
       "    }\n",
       "\n",
       "    .dataframe thead th {\n",
       "        text-align: right;\n",
       "    }\n",
       "</style>\n",
       "<table border=\"1\" class=\"dataframe\">\n",
       "  <thead>\n",
       "    <tr style=\"text-align: right;\">\n",
       "      <th></th>\n",
       "      <th>Predicted Negative</th>\n",
       "      <th>Predicted Positive</th>\n",
       "    </tr>\n",
       "  </thead>\n",
       "  <tbody>\n",
       "    <tr>\n",
       "      <th>Actual Negative</th>\n",
       "      <td>298</td>\n",
       "      <td>306</td>\n",
       "    </tr>\n",
       "    <tr>\n",
       "      <th>Actual Positive</th>\n",
       "      <td>57</td>\n",
       "      <td>3408</td>\n",
       "    </tr>\n",
       "  </tbody>\n",
       "</table>\n",
       "</div>"
      ],
      "text/plain": [
       "                 Predicted Negative  Predicted Positive\n",
       "Actual Negative                 298                 306\n",
       "Actual Positive                  57                3408"
      ]
     },
     "metadata": {},
     "output_type": "display_data"
    },
    {
     "name": "stdout",
     "output_type": "stream",
     "text": [
      "\n",
      "Classification Metrics:\n",
      "-----------------------\n",
      "True Positives: 3408\n",
      "True Negatives: 298\n",
      "False Positives: 306\n",
      "False Negatives: 57\n",
      "\n",
      "True Positive Rate: 0.9835497835497835\n",
      "False Positive Rate: 0.5066225165562914\n",
      "\n",
      "The 6 metrics:\n",
      "---------------\n",
      "Accuracy: 0.91\n",
      "Mis-classification: 0.09\n",
      "Sensitivity: 0.98\n",
      "Specificty: 0.49\n",
      "Precision: 0.92\n",
      "F1 Score: 0.95\n",
      "\n",
      "ROC AUC Score: 0.9985949999932183\n",
      "\n",
      "Mean ROC AUC Score: 0.9525719303799817\n",
      "\n"
     ]
    },
    {
     "data": {
      "image/png": "[encoded data removed]",
      "text/plain": [
       "<Figure size 432x288 with 1 Axes>"
      ]
     },
     "metadata": {
      "needs_background": "light"
     },
     "output_type": "display_data"
    },
    {
     "data": {
      "image/png": "[encoded data removed]",
      "text/plain": [
       "<Figure size 432x288 with 1 Axes>"
      ]
     },
     "metadata": {
      "needs_background": "light"
     },
     "output_type": "display_data"
    },
    {
     "name": "stdout",
     "output_type": "stream",
     "text": [
      "total time taken: 0:02:20.378015\n"
     ]
    }
   ],
   "source": [
    "import datetime\n",
    "start = datetime.datetime.now()\n",
    "\n",
    "new_model = RandomForestClassifier(n_estimators=100)\n",
    "analyze_model(new_model, X, X_test, y_test, features)\n",
    "\n",
    "end = datetime.datetime.now()\n",
    "print(f'total time taken: {end-start}')"
   ]
  },
  {
   "cell_type": "code",
   "execution_count": null,
   "metadata": {},
   "outputs": [],
   "source": []
  },
  {
   "cell_type": "markdown",
   "metadata": {
    "jupyter": {
     "source_hidden": true
    },
    "tags": []
   },
   "source": [
    "# 1. Define and train models\n",
    "    Train each model on the training set and perform predictions on the testing set.\n",
    "\n",
    "# 2. Get the set of labels predicted by each model.\n",
    "\n",
    "# 3. Report the accuracy score of each model.\n",
    "\n",
    "# 4. Find important features from each model\n",
    "\n",
    "# 5. Visualize feature importance scores for easy understanding & interpretation\n",
    "    a. Random Forest Classification for Feature Importance\n",
    "    b. Permutation Feature Importance for Classification\n",
    "    c. Feature Importance based on Mean Decrease in Impurity\n",
    "\n",
    "# 6. Display Classification Report\n",
    "\n",
    "# 7. Create a Confusion Matrix\n",
    "\n",
    "# 8. Evaluate Classifier using Classification Metrics"
   ]
  },
  {
   "cell_type": "code",
   "execution_count": null,
   "metadata": {},
   "outputs": [],
   "source": []
  },
  {
   "cell_type": "markdown",
   "metadata": {},
   "source": [
    "# Start"
   ]
  },
  {
   "cell_type": "code",
   "execution_count": 46,
   "metadata": {
    "jupyter": {
     "source_hidden": true
    },
    "tags": []
   },
   "outputs": [],
   "source": [
    "'''1. Define and train the model'''\n",
    "\n",
    "from sklearn.ensemble import RandomForestClassifier\n",
    "\n",
    "# define model\n",
    "rfc = RandomForestClassifier(n_estimators=100)\n",
    "\n",
    "# fit the model\n",
    "train_model(rfc)"
   ]
  },
  {
   "cell_type": "code",
   "execution_count": 47,
   "metadata": {
    "jupyter": {
     "source_hidden": true
    },
    "tags": []
   },
   "outputs": [],
   "source": [
    "'''2. Get set of labels predicted by the model'''\n",
    "# set of labels predicted by the model\n",
    "y_pred = rfc.predict(X_test)"
   ]
  },
  {
   "cell_type": "code",
   "execution_count": 48,
   "metadata": {
    "collapsed": true,
    "jupyter": {
     "outputs_hidden": true,
     "source_hidden": true
    },
    "tags": []
   },
   "outputs": [
    {
     "name": "stdout",
     "output_type": "stream",
     "text": [
      "model accuracy: 0.9090685672155321\n"
     ]
    }
   ],
   "source": [
    "'''3. Report the model accuracy score'''\n",
    "# import sklearn's metrics model for accuracy calculation\n",
    "from sklearn import metrics\n",
    "# check model's accuracy\n",
    "print(f'model accuracy: {metrics.accuracy_score(y_test, y_pred)}')"
   ]
  },
  {
   "cell_type": "code",
   "execution_count": 50,
   "metadata": {
    "collapsed": true,
    "jupyter": {
     "outputs_hidden": true,
     "source_hidden": true
    },
    "tags": []
   },
   "outputs": [
    {
     "data": {
      "text/plain": [
       "publisher_val         0.276470\n",
       "polarity sd           0.081410\n",
       "polarity min-max      0.079582\n",
       "polarity              0.069764\n",
       "subjectivity          0.067606\n",
       "polarity median       0.065903\n",
       "entity_num            0.065866\n",
       "polarity_avg          0.063750\n",
       "polarity range        0.061055\n",
       "num_sentences         0.055130\n",
       "entity_type_num       0.037046\n",
       "quote_polarity        0.029240\n",
       "quote_subjectivity    0.025648\n",
       "num_quote             0.021530\n",
       "dtype: float64"
      ]
     },
     "execution_count": 50,
     "metadata": {},
     "output_type": "execute_result"
    }
   ],
   "source": [
    "'''4. Find the model's important features'''\n",
    "import pandas as pd\n",
    "# feature importance\n",
    "feature_importance = pd.Series(rfc.feature_importances_,index=features).sort_values(ascending=False)\n",
    "# print the features and their importance scores\n",
    "feature_importance"
   ]
  },
  {
   "cell_type": "code",
   "execution_count": 51,
   "metadata": {
    "collapsed": true,
    "jupyter": {
     "outputs_hidden": true,
     "source_hidden": true
    },
    "tags": []
   },
   "outputs": [
    {
     "data": {
      "image/png": "[encoded data removed]",
      "text/plain": [
       "<Figure size 432x288 with 1 Axes>"
      ]
     },
     "metadata": {
      "needs_background": "light"
     },
     "output_type": "display_data"
    }
   ],
   "source": [
    "'''5. Visualize the models importance scores'''\n",
    "import matplotlib.pyplot as plt\n",
    "import seaborn as sb\n",
    "%matplotlib inline\n",
    "# create bar plot\n",
    "sb.barplot(x=feature_importance, y=feature_importance.index)\n",
    "# add labels\n",
    "plt.xlabel('Importance Score')\n",
    "plt.ylabel('Features')\n",
    "plt.title(\"Important Features using pandas.Series\")\n",
    "plt.show()"
   ]
  },
  {
   "cell_type": "markdown",
   "metadata": {
    "jupyter": {
     "source_hidden": true
    },
    "tags": []
   },
   "source": [
    "5.a Random Forest Classifier feature importance"
   ]
  },
  {
   "cell_type": "code",
   "execution_count": 52,
   "metadata": {
    "collapsed": true,
    "jupyter": {
     "outputs_hidden": true,
     "source_hidden": true
    },
    "tags": []
   },
   "outputs": [
    {
     "name": "stdout",
     "output_type": "stream",
     "text": [
      "Feature: 0, Score: 0.06976\n",
      "Feature: 1, Score: 0.06761\n",
      "Feature: 2, Score: 0.27647\n",
      "Feature: 3, Score: 0.06587\n",
      "Feature: 4, Score: 0.03705\n",
      "Feature: 5, Score: 0.02153\n",
      "Feature: 6, Score: 0.02565\n",
      "Feature: 7, Score: 0.02924\n",
      "Feature: 8, Score: 0.05513\n",
      "Feature: 9, Score: 0.06375\n",
      "Feature: 10, Score: 0.08141\n",
      "Feature: 11, Score: 0.06590\n",
      "Feature: 12, Score: 0.07958\n",
      "Feature: 13, Score: 0.06105\n"
     ]
    },
    {
     "data": {
      "image/png": "[encoded data removed]",
      "text/plain": [
       "<Figure size 432x288 with 1 Axes>"
      ]
     },
     "metadata": {
      "needs_background": "light"
     },
     "output_type": "display_data"
    }
   ],
   "source": [
    "'''using matplotlib'''\n",
    "# use the random forest classifier for feature importance\n",
    "from sklearn.ensemble import RandomForestClassifier\n",
    "from matplotlib import pyplot as plt\n",
    "import seaborn as sb\n",
    "# get importance\n",
    "importance = rfc.feature_importances_\n",
    "# summarize feature importance\n",
    "for i,v in enumerate(importance):\n",
    "    print('Feature: %0d, Score: %.5f' % (i,v))\n",
    "# plot feature importance using matplotlib\n",
    "plt.title('Important Features using model.feature_importances_')\n",
    "plt.xlabel('Features')\n",
    "plt.ylabel('Scores')\n",
    "plt.bar([x for x in range(len(importance))], importance)\n",
    "plt.show()"
   ]
  },
  {
   "cell_type": "code",
   "execution_count": 53,
   "metadata": {
    "collapsed": true,
    "jupyter": {
     "outputs_hidden": true,
     "source_hidden": true
    },
    "tags": []
   },
   "outputs": [
    {
     "data": {
      "image/png": "[encoded data removed]",
      "text/plain": [
       "<Figure size 432x288 with 1 Axes>"
      ]
     },
     "metadata": {
      "needs_background": "light"
     },
     "output_type": "display_data"
    }
   ],
   "source": [
    "'''using seaborn'''\n",
    "# plot feature importance using seaborn\n",
    "sb.barplot(x=importance, y=features)\n",
    "plt.title('Important Features using model.feature_importances_')\n",
    "plt.xlabel('Scores')\n",
    "plt.ylabel('Features')\n",
    "plt.show()"
   ]
  },
  {
   "cell_type": "markdown",
   "metadata": {
    "jupyter": {
     "source_hidden": true
    },
    "tags": []
   },
   "source": [
    "5.b Permutation Feature Importance for Classification"
   ]
  },
  {
   "cell_type": "code",
   "execution_count": 54,
   "metadata": {
    "collapsed": true,
    "jupyter": {
     "outputs_hidden": true,
     "source_hidden": true
    },
    "tags": []
   },
   "outputs": [
    {
     "name": "stdout",
     "output_type": "stream",
     "text": [
      "Feature: 0, Score: 0.01464\n",
      "Feature: 1, Score: 0.01043\n",
      "Feature: 2, Score: 0.11770\n",
      "Feature: 3, Score: 0.01888\n",
      "Feature: 4, Score: 0.00256\n",
      "Feature: 5, Score: 0.00064\n",
      "Feature: 6, Score: 0.00149\n",
      "Feature: 7, Score: 0.00212\n",
      "Feature: 8, Score: 0.00981\n",
      "Feature: 9, Score: 0.00490\n",
      "Feature: 10, Score: 0.01792\n",
      "Feature: 11, Score: 0.00195\n",
      "Feature: 12, Score: 0.01538\n",
      "Feature: 13, Score: 0.00230\n"
     ]
    },
    {
     "data": {
      "image/png": "[encoded data removed]",
      "text/plain": [
       "<Figure size 432x288 with 1 Axes>"
      ]
     },
     "metadata": {
      "needs_background": "light"
     },
     "output_type": "display_data"
    }
   ],
   "source": [
    "'''using matplotlib'''\n",
    "# permutation feature importance\n",
    "from sklearn.datasets import make_classification\n",
    "from sklearn.ensemble import RandomForestClassifier\n",
    "from sklearn.inspection import permutation_importance\n",
    "from matplotlib import pyplot as plt\n",
    "# perform permutation importance\n",
    "results = permutation_importance(rfc, X.fillna(0), y, scoring='accuracy')\n",
    "# get importance\n",
    "pf_importance = results.importances_mean\n",
    "# summarize feature importance\n",
    "for i,v in enumerate(pf_importance):\n",
    "    print('Feature: %0d, Score: %.5f' % (i,v))\n",
    "# plot feature importance with matplotlib\n",
    "plt.title('Permutation Feature Importance for Classification')\n",
    "plt.xlabel('Features')\n",
    "plt.ylabel('Scores')\n",
    "plt.bar([x for x in range(len(pf_importance))], pf_importance)\n",
    "plt.show()"
   ]
  },
  {
   "cell_type": "code",
   "execution_count": 55,
   "metadata": {
    "collapsed": true,
    "jupyter": {
     "outputs_hidden": true,
     "source_hidden": true
    },
    "tags": []
   },
   "outputs": [
    {
     "data": {
      "image/png": "[encoded data removed]",
      "text/plain": [
       "<Figure size 432x288 with 1 Axes>"
      ]
     },
     "metadata": {
      "needs_background": "light"
     },
     "output_type": "display_data"
    }
   ],
   "source": [
    "'''using seaborn'''\n",
    "# plot feature importance with seaborn\n",
    "sb.barplot(x=pf_importance, y=features)\n",
    "plt.title('Permutation Feature Importance')\n",
    "plt.xlabel('Scores')\n",
    "plt.ylabel('Features')\n",
    "plt.show()"
   ]
  },
  {
   "cell_type": "code",
   "execution_count": 60,
   "metadata": {
    "collapsed": true,
    "jupyter": {
     "outputs_hidden": true,
     "source_hidden": true
    },
    "tags": []
   },
   "outputs": [
    {
     "data": {
      "image/png": "[encoded data removed]",
      "text/plain": [
       "<Figure size 432x288 with 1 Axes>"
      ]
     },
     "metadata": {
      "needs_background": "light"
     },
     "output_type": "display_data"
    }
   ],
   "source": [
    "'''5.c Feature Importance based on Mean Decrease in Impurity'''\n",
    "# plot impurity-based importance\n",
    "import pandas as pd\n",
    "import numpy as np\n",
    "import matplotlib.pyplot as plt\n",
    "importances = rfc.feature_importances_\n",
    "std = np.std([tree.feature_importances_ for tree in rfc.estimators_], axis=0)\n",
    "feature_names = [f'feature {i}' for i in range(X.shape[1])]\n",
    "model_importances = pd.Series(importances, index=features)\n",
    "fig, ax = plt.subplots()\n",
    "model_importances.plot.bar(yerr=std, ax=ax)\n",
    "ax.set_title(\"Feature importances using MDI\")\n",
    "ax.set_ylabel(\"Mean decrease in impurity\")\n",
    "fig.tight_layout()"
   ]
  },
  {
   "cell_type": "code",
   "execution_count": 61,
   "metadata": {
    "collapsed": true,
    "jupyter": {
     "outputs_hidden": true,
     "source_hidden": true
    },
    "tags": []
   },
   "outputs": [
    {
     "name": "stdout",
     "output_type": "stream",
     "text": [
      "              precision    recall  f1-score   support\n",
      "\n",
      "         low       0.00      0.00      0.00      1401\n",
      "      medium       0.33      0.09      0.14      1284\n",
      "        high       0.34      0.92      0.50      1384\n",
      "\n",
      "    accuracy                           0.34      4069\n",
      "   macro avg       0.22      0.33      0.21      4069\n",
      "weighted avg       0.22      0.34      0.21      4069\n",
      "\n",
      "\n",
      "with the labels parameter specified:\n",
      "\n",
      "              precision    recall  f1-score   support\n",
      "\n",
      "           0       0.00      0.00      0.00      1401\n",
      "           1       0.33      0.09      0.14      1284\n",
      "           2       0.34      0.92      0.50      1384\n",
      "\n",
      "    accuracy                           0.34      4069\n",
      "   macro avg       0.22      0.33      0.21      4069\n",
      "weighted avg       0.22      0.34      0.21      4069\n",
      "\n"
     ]
    },
    {
     "name": "stderr",
     "output_type": "stream",
     "text": [
      "C:\\Users\\STEPHEN\\anaconda3\\lib\\site-packages\\sklearn\\metrics\\_classification.py:1248: UndefinedMetricWarning: Precision and F-score are ill-defined and being set to 0.0 in labels with no predicted samples. Use `zero_division` parameter to control this behavior.\n",
      "  _warn_prf(average, modifier, msg_start, len(result))\n",
      "C:\\Users\\STEPHEN\\anaconda3\\lib\\site-packages\\sklearn\\metrics\\_classification.py:1248: UndefinedMetricWarning: Precision and F-score are ill-defined and being set to 0.0 in labels with no predicted samples. Use `zero_division` parameter to control this behavior.\n",
      "  _warn_prf(average, modifier, msg_start, len(result))\n",
      "C:\\Users\\STEPHEN\\anaconda3\\lib\\site-packages\\sklearn\\metrics\\_classification.py:1248: UndefinedMetricWarning: Precision and F-score are ill-defined and being set to 0.0 in labels with no predicted samples. Use `zero_division` parameter to control this behavior.\n",
      "  _warn_prf(average, modifier, msg_start, len(result))\n",
      "C:\\Users\\STEPHEN\\anaconda3\\lib\\site-packages\\sklearn\\metrics\\_classification.py:1248: UndefinedMetricWarning: Precision and F-score are ill-defined and being set to 0.0 in labels with no predicted samples. Use `zero_division` parameter to control this behavior.\n",
      "  _warn_prf(average, modifier, msg_start, len(result))\n",
      "C:\\Users\\STEPHEN\\anaconda3\\lib\\site-packages\\sklearn\\metrics\\_classification.py:1248: UndefinedMetricWarning: Precision and F-score are ill-defined and being set to 0.0 in labels with no predicted samples. Use `zero_division` parameter to control this behavior.\n",
      "  _warn_prf(average, modifier, msg_start, len(result))\n",
      "C:\\Users\\STEPHEN\\anaconda3\\lib\\site-packages\\sklearn\\metrics\\_classification.py:1248: UndefinedMetricWarning: Precision and F-score are ill-defined and being set to 0.0 in labels with no predicted samples. Use `zero_division` parameter to control this behavior.\n",
      "  _warn_prf(average, modifier, msg_start, len(result))\n"
     ]
    }
   ],
   "source": [
    "'''6. Display Classification Report'''\n",
    "# classification report\n",
    "from sklearn.metrics import classification_report\n",
    "import random\n",
    "y_true = [random.randint(0,2) for _ in range(len(y_pred))]  # randomly generate true values\n",
    "target_names = ['low', 'medium', 'high']\n",
    "print(classification_report(y_true, y_pred, target_names=target_names))\n",
    "# specify the labels param\n",
    "print('\\nwith the labels parameter specified:\\n')\n",
    "print(classification_report(y_true, y_pred, labels=[0,1,2]))"
   ]
  },
  {
   "cell_type": "code",
   "execution_count": 62,
   "metadata": {
    "collapsed": true,
    "jupyter": {
     "outputs_hidden": true,
     "source_hidden": true
    },
    "tags": []
   },
   "outputs": [
    {
     "data": {
      "text/html": [
       "<div>\n",
       "<style scoped>\n",
       "    .dataframe tbody tr th:only-of-type {\n",
       "        vertical-align: middle;\n",
       "    }\n",
       "\n",
       "    .dataframe tbody tr th {\n",
       "        vertical-align: top;\n",
       "    }\n",
       "\n",
       "    .dataframe thead th {\n",
       "        text-align: right;\n",
       "    }\n",
       "</style>\n",
       "<table border=\"1\" class=\"dataframe\">\n",
       "  <thead>\n",
       "    <tr style=\"text-align: right;\">\n",
       "      <th></th>\n",
       "      <th>Predicted Negative</th>\n",
       "      <th>Predicted Positive</th>\n",
       "    </tr>\n",
       "  </thead>\n",
       "  <tbody>\n",
       "    <tr>\n",
       "      <th>Actual Negative</th>\n",
       "      <td>284</td>\n",
       "      <td>320</td>\n",
       "    </tr>\n",
       "    <tr>\n",
       "      <th>Actual Positive</th>\n",
       "      <td>50</td>\n",
       "      <td>3415</td>\n",
       "    </tr>\n",
       "  </tbody>\n",
       "</table>\n",
       "</div>"
      ],
      "text/plain": [
       "                 Predicted Negative  Predicted Positive\n",
       "Actual Negative                 284                 320\n",
       "Actual Positive                  50                3415"
      ]
     },
     "execution_count": 62,
     "metadata": {},
     "output_type": "execute_result"
    }
   ],
   "source": [
    "'''7. Create a confusion matrix'''\n",
    "# Using a confusion matrix\n",
    "# import metrics package\n",
    "from sklearn import metrics\n",
    "# create confusion matrix\n",
    "def confusion_matrix(y_test, y_pred):\n",
    "    cm = metrics.confusion_matrix(y_test, y_pred)\n",
    "    cm_df = pd.DataFrame(cm, columns=['Predicted Negative', 'Predicted Positive'], index=['Actual Negative', 'Actual Positive'])\n",
    "    return cm_df\n",
    "# initialize and display the matrix\n",
    "cm = confusion_matrix(y_test, y_pred)\n",
    "cm"
   ]
  },
  {
   "cell_type": "code",
   "execution_count": 63,
   "metadata": {
    "collapsed": true,
    "id": "xREltDQdaefS",
    "jupyter": {
     "outputs_hidden": true,
     "source_hidden": true
    },
    "tags": []
   },
   "outputs": [
    {
     "name": "stdout",
     "output_type": "stream",
     "text": [
      "True Positives: 3415\n",
      "True Negatives: 284\n",
      "False Positives: 320\n",
      "False Negatives: 50\n",
      "--------------------\n",
      "Accuracy: 0.91\n",
      "Mis-classification: 0.09\n",
      "Sensitivity/Recall: 0.99\n",
      "Specificty: 0.47\n",
      "Precision: 0.91\n",
      "F1 Score: 0.95\n"
     ]
    }
   ],
   "source": [
    "'''8. Evaluate classifier using classification metrics'''\n",
    "# report metrics\n",
    "def report_metrics(cm):\n",
    "    TP = cm['Predicted Positive'][1]\n",
    "    TN = cm['Predicted Negative'][0]\n",
    "    FP = cm['Predicted Positive'][0]\n",
    "    FN = cm['Predicted Negative'][1]\n",
    "    \n",
    "    print(f'True Positives: {TP}')\n",
    "    print(f'True Negatives: {TN}')\n",
    "    print(f'False Positives: {FP}')\n",
    "    print(f'False Negatives: {FN}')\n",
    "    \n",
    "    # calculate the six metrics\n",
    "    total = sum([TP, TN, FP, FN])\n",
    "    accuracy = (float(TP+TN)/float(total))\n",
    "    mis_classification = 1 - accuracy\n",
    "    sensitivity = (TP/float(FN+TP))\n",
    "    specificity = (TN/float(TN+FP))\n",
    "    precision = (TP/float(TP+FP))\n",
    "    f1_score = 2 * ((precision * sensitivity)/(precision + sensitivity))\n",
    "    \n",
    "    # display results\n",
    "    print('-'*20)\n",
    "    print(f'Accuracy: {round(accuracy, 2)}')\n",
    "    print(f'Mis-classification: {round(mis_classification, 2)}')\n",
    "    print(f'Sensitivity/Recall: {round(sensitivity, 2)}')\n",
    "    print(f'Specificty: {round(specificity, 2)}')\n",
    "    print(f'Precision: {round(precision, 2)}')\n",
    "    print(f'F1 Score: {round(f1_score, 2)}')\n",
    "\n",
    "    \n",
    "# report the metrics\n",
    "report_metrics(cm)"
   ]
  },
  {
   "cell_type": "markdown",
   "metadata": {},
   "source": [
    "# End"
   ]
  },
  {
   "cell_type": "code",
   "execution_count": null,
   "metadata": {},
   "outputs": [],
   "source": []
  },
  {
   "cell_type": "code",
   "execution_count": null,
   "metadata": {},
   "outputs": [],
   "source": []
  },
  {
   "cell_type": "code",
   "execution_count": null,
   "metadata": {},
   "outputs": [],
   "source": []
  },
  {
   "cell_type": "markdown",
   "metadata": {
    "tags": []
   },
   "source": [
    "# Testing functions to ensure they all work"
   ]
  },
  {
   "cell_type": "markdown",
   "metadata": {
    "tags": []
   },
   "source": [
    "# 1. Define and train models\n",
    "    Train each model on the training set and perform predictions on the testing set.\n",
    "\n",
    "# 2. Get the set of labels predicted by each model.\n",
    "\n",
    "# 3. Report the accuracy score of each model.\n",
    "\n",
    "# 4. Find important features from each model\n",
    "\n",
    "# 5. Visualize feature importance scores for easy understanding & interpretation\n",
    "    a. Random Forest Classification for Feature Importance\n",
    "    b. Permutation Feature Importance for Classification\n",
    "    c. Feature Importance based on Mean Decrease in Impurity\n",
    "\n",
    "# 6. Display Classification Report\n",
    "\n",
    "# 7. Create a Confusion Matrix\n",
    "\n",
    "# 8. Evaluate Classifier using Classification Metrics\n",
    "\n",
    "# 9. Display ROC AUC Score\n",
    "\n",
    "# 10. Display Mean ROC AUC Score\n",
    "\n",
    "# 11. Plot an ROC AUC Curve"
   ]
  },
  {
   "cell_type": "code",
   "execution_count": 104,
   "metadata": {
    "jupyter": {
     "source_hidden": true
    },
    "tags": []
   },
   "outputs": [],
   "source": [
    "# import libraries\n",
    "from sklearn.ensemble import RandomForestClassifier\n",
    "from sklearn import metrics\n",
    "import pandas as pd\n",
    "from sklearn.inspection import permutation_importance\n",
    "import numpy as np\n",
    "import matplotlib.pyplot as plt\n",
    "from sklearn.metrics import classification_report\n",
    "import random\n",
    "from sklearn.metrics import confusion_matrix\n",
    "from numpy import mean"
   ]
  },
  {
   "cell_type": "code",
   "execution_count": 105,
   "metadata": {
    "jupyter": {
     "source_hidden": true
    },
    "tags": []
   },
   "outputs": [],
   "source": [
    "'''1. Define and train the model'''\n",
    "\n",
    "# define model & fit the model\n",
    "rfc_model = RandomForestClassifier(n_estimators=100)\n",
    "train_model(rfc_model)"
   ]
  },
  {
   "cell_type": "code",
   "execution_count": 106,
   "metadata": {
    "jupyter": {
     "source_hidden": true
    },
    "tags": []
   },
   "outputs": [],
   "source": [
    "'''2. Get the set of labels predicted by the model.'''\n",
    "\n",
    "# get the set of labels predicted by each model\n",
    "rfc_y_pred = get_predicted_labels(rfc_model, X_test)"
   ]
  },
  {
   "cell_type": "code",
   "execution_count": 135,
   "metadata": {
    "collapsed": true,
    "jupyter": {
     "outputs_hidden": true,
     "source_hidden": true
    },
    "tags": []
   },
   "outputs": [
    {
     "name": "stdout",
     "output_type": "stream",
     "text": [
      "Accuracy Score: 0.9117719341361514\n"
     ]
    }
   ],
   "source": [
    "'''3. Report the accuracy score of each model.'''\n",
    "\n",
    "# calculate & print the classifier's accuracy score\n",
    "print_model_accuracy(y_test, rfc_y_pred)"
   ]
  },
  {
   "cell_type": "code",
   "execution_count": 115,
   "metadata": {
    "jupyter": {
     "source_hidden": true
    },
    "tags": []
   },
   "outputs": [],
   "source": [
    "'''4. Find & Visualize Feature Importance Scores for Easy Understanding & Interpretation'''"
   ]
  },
  {
   "cell_type": "markdown",
   "metadata": {
    "jupyter": {
     "source_hidden": true
    },
    "tags": []
   },
   "source": [
    "# display feature importance info"
   ]
  },
  {
   "cell_type": "code",
   "execution_count": 116,
   "metadata": {
    "collapsed": true,
    "jupyter": {
     "outputs_hidden": true,
     "source_hidden": true
    },
    "tags": []
   },
   "outputs": [
    {
     "name": "stdout",
     "output_type": "stream",
     "text": [
      "Feature: 0, Score: 0.27708\n",
      "Feature: 1, Score: 0.08042\n",
      "Feature: 2, Score: 0.07946\n",
      "Feature: 3, Score: 0.06945\n",
      "Feature: 4, Score: 0.06677\n",
      "Feature: 5, Score: 0.06599\n",
      "Feature: 6, Score: 0.06592\n",
      "Feature: 7, Score: 0.06546\n",
      "Feature: 8, Score: 0.06134\n",
      "Feature: 9, Score: 0.05594\n",
      "Feature: 10, Score: 0.03642\n",
      "Feature: 11, Score: 0.02876\n",
      "Feature: 12, Score: 0.02601\n",
      "Feature: 13, Score: 0.02099\n"
     ]
    },
    {
     "data": {
      "image/png": "[encoded data removed]",
      "text/plain": [
       "<Figure size 432x288 with 1 Axes>"
      ]
     },
     "metadata": {
      "needs_background": "light"
     },
     "output_type": "display_data"
    }
   ],
   "source": [
    "# a. Model's Feature Importance\n",
    "display_model_feature_importance(rfc_model, features)"
   ]
  },
  {
   "cell_type": "code",
   "execution_count": 117,
   "metadata": {
    "collapsed": true,
    "jupyter": {
     "outputs_hidden": true,
     "source_hidden": true
    },
    "tags": []
   },
   "outputs": [
    {
     "name": "stdout",
     "output_type": "stream",
     "text": [
      "Feature: 0, Score: 0.01479\n",
      "Feature: 1, Score: 0.01077\n",
      "Feature: 2, Score: 0.12002\n",
      "Feature: 3, Score: 0.01865\n",
      "Feature: 4, Score: 0.00188\n",
      "Feature: 5, Score: 0.00122\n",
      "Feature: 6, Score: 0.00146\n",
      "Feature: 7, Score: 0.00203\n",
      "Feature: 8, Score: 0.00902\n",
      "Feature: 9, Score: 0.00492\n",
      "Feature: 10, Score: 0.01893\n",
      "Feature: 11, Score: 0.00301\n",
      "Feature: 12, Score: 0.01680\n",
      "Feature: 13, Score: 0.00259\n"
     ]
    },
    {
     "data": {
      "image/png": "[encoded data removed]",
      "text/plain": [
       "<Figure size 432x288 with 1 Axes>"
      ]
     },
     "metadata": {
      "needs_background": "light"
     },
     "output_type": "display_data"
    }
   ],
   "source": [
    "# b. Permutation Feature Importance\n",
    "display_permutation_feature_importance(rfc_model, X)"
   ]
  },
  {
   "cell_type": "code",
   "execution_count": 118,
   "metadata": {
    "collapsed": true,
    "jupyter": {
     "outputs_hidden": true,
     "source_hidden": true
    },
    "tags": []
   },
   "outputs": [
    {
     "data": {
      "image/png": "[encoded data removed]",
      "text/plain": [
       "<Figure size 432x288 with 1 Axes>"
      ]
     },
     "metadata": {
      "needs_background": "light"
     },
     "output_type": "display_data"
    }
   ],
   "source": [
    "# c. Feature Importance based on Mean Decrease in Impurity\n",
    "display_mdi_feature_importance(rfc_model, features)"
   ]
  },
  {
   "cell_type": "code",
   "execution_count": 124,
   "metadata": {
    "collapsed": true,
    "jupyter": {
     "outputs_hidden": true,
     "source_hidden": true
    },
    "tags": []
   },
   "outputs": [
    {
     "name": "stdout",
     "output_type": "stream",
     "text": [
      "              precision    recall  f1-score   support\n",
      "\n",
      "      medium       0.35      0.09      0.14      1346\n",
      "        high       0.33      0.92      0.49      1330\n",
      "\n",
      "   micro avg       0.33      0.50      0.40      2676\n",
      "   macro avg       0.34      0.51      0.31      2676\n",
      "weighted avg       0.34      0.50      0.31      2676\n",
      "\n"
     ]
    }
   ],
   "source": [
    "'''6. Display Classification Report'''\n",
    "\n",
    "display_classification_report(rfc_y_pred)"
   ]
  },
  {
   "cell_type": "code",
   "execution_count": 137,
   "metadata": {
    "collapsed": true,
    "jupyter": {
     "outputs_hidden": true,
     "source_hidden": true
    },
    "tags": []
   },
   "outputs": [
    {
     "data": {
      "text/html": [
       "<div>\n",
       "<style scoped>\n",
       "    .dataframe tbody tr th:only-of-type {\n",
       "        vertical-align: middle;\n",
       "    }\n",
       "\n",
       "    .dataframe tbody tr th {\n",
       "        vertical-align: top;\n",
       "    }\n",
       "\n",
       "    .dataframe thead th {\n",
       "        text-align: right;\n",
       "    }\n",
       "</style>\n",
       "<table border=\"1\" class=\"dataframe\">\n",
       "  <thead>\n",
       "    <tr style=\"text-align: right;\">\n",
       "      <th></th>\n",
       "      <th>Predicted Negative</th>\n",
       "      <th>Predicted Positive</th>\n",
       "    </tr>\n",
       "  </thead>\n",
       "  <tbody>\n",
       "    <tr>\n",
       "      <th>Actual Negative</th>\n",
       "      <td>292</td>\n",
       "      <td>312</td>\n",
       "    </tr>\n",
       "    <tr>\n",
       "      <th>Actual Positive</th>\n",
       "      <td>47</td>\n",
       "      <td>3418</td>\n",
       "    </tr>\n",
       "  </tbody>\n",
       "</table>\n",
       "</div>"
      ],
      "text/plain": [
       "                 Predicted Negative  Predicted Positive\n",
       "Actual Negative                 292                 312\n",
       "Actual Positive                  47                3418"
      ]
     },
     "metadata": {},
     "output_type": "display_data"
    }
   ],
   "source": [
    "'''7. Create a Confusion Matrix'''\n",
    "\n",
    "conf_matrix = create_confusion_matrix(y_test, rfc_y_pred)\n",
    "\n",
    "# display confusion matrix\n",
    "conf_matrix"
   ]
  },
  {
   "cell_type": "code",
   "execution_count": 126,
   "metadata": {
    "collapsed": true,
    "jupyter": {
     "outputs_hidden": true,
     "source_hidden": true
    },
    "tags": []
   },
   "outputs": [
    {
     "name": "stdout",
     "output_type": "stream",
     "text": [
      "True Positives: 3418\n",
      "True Negatives: 292\n",
      "False Positives: 312\n",
      "False Negatives: 47\n",
      "--------------------\n",
      "True Positive Rate: 0.9864357864357864\n",
      "False Positive Rate: 0.5165562913907285\n",
      "--------------------\n",
      "Classification Metrics:\n",
      "Accuracy: 0.91\n",
      "Mis-classification: 0.09\n",
      "Sensitivity: 0.99\n",
      "Specificty: 0.48\n",
      "Precision: 0.92\n",
      "F1 Score: 0.95\n"
     ]
    }
   ],
   "source": [
    "'''8. Evaluate Classifier using Classification Metrics'''\n",
    "\n",
    "# display classification metrics\n",
    "report_classification_metrics(conf_matrix)"
   ]
  },
  {
   "cell_type": "code",
   "execution_count": 139,
   "metadata": {
    "collapsed": true,
    "jupyter": {
     "outputs_hidden": true,
     "source_hidden": true
    },
    "tags": []
   },
   "outputs": [
    {
     "name": "stdout",
     "output_type": "stream",
     "text": [
      "ROC AUC Score: 0.9987113799108687\n"
     ]
    }
   ],
   "source": [
    "'''9. Display ROC AUC Score'''\n",
    "\n",
    "# calculate & print roc auc score \n",
    "print_roc_auc_score(rfc_model, X, y)"
   ]
  },
  {
   "cell_type": "code",
   "execution_count": 141,
   "metadata": {
    "collapsed": true,
    "jupyter": {
     "outputs_hidden": true,
     "source_hidden": true
    },
    "tags": []
   },
   "outputs": [
    {
     "name": "stdout",
     "output_type": "stream",
     "text": [
      "Mean ROC AUC Score: 0.9519902746831973\n"
     ]
    }
   ],
   "source": [
    "'''10. Display Mean ROC AUC Score'''\n",
    "# calculate & print mean roc auc score\n",
    "print_mean_roc_auc_score(rfc_model, X, y)"
   ]
  },
  {
   "cell_type": "code",
   "execution_count": 143,
   "metadata": {
    "collapsed": true,
    "jupyter": {
     "outputs_hidden": true,
     "source_hidden": true
    },
    "tags": []
   },
   "outputs": [
    {
     "data": {
      "image/png": "[encoded data removed]",
      "text/plain": [
       "<Figure size 432x288 with 1 Axes>"
      ]
     },
     "metadata": {
      "needs_background": "light"
     },
     "output_type": "display_data"
    }
   ],
   "source": [
    "'''11. Plot an ROC AUC Curve'''\n",
    "plot_roc_curve(rfc_model)"
   ]
  },
  {
   "cell_type": "markdown",
   "metadata": {},
   "source": [
    "# End of function testing"
   ]
  },
  {
   "cell_type": "code",
   "execution_count": null,
   "metadata": {},
   "outputs": [],
   "source": []
  },
  {
   "cell_type": "code",
   "execution_count": null,
   "metadata": {},
   "outputs": [],
   "source": []
  },
  {
   "cell_type": "code",
   "execution_count": null,
   "metadata": {},
   "outputs": [],
   "source": []
  },
  {
   "cell_type": "code",
   "execution_count": null,
   "metadata": {},
   "outputs": [],
   "source": []
  },
  {
   "cell_type": "code",
   "execution_count": null,
   "metadata": {},
   "outputs": [],
   "source": []
  },
  {
   "cell_type": "markdown",
   "metadata": {
    "tags": []
   },
   "source": [
    "# Dealing with imbalanced data\n",
    "    1. import models\n",
    "    2. load dataset\n",
    "    3. define model\n",
    "    4. define evaluation procedure\n",
    "    5. evaluate model\n",
    "    6. summarize performance"
   ]
  },
  {
   "cell_type": "code",
   "execution_count": 188,
   "metadata": {
    "tags": []
   },
   "outputs": [],
   "source": [
    "# import libraries & models\n",
    "import datetime\n",
    "from numpy import mean\n",
    "from sklearn.datasets import make_classification\n",
    "from sklearn.model_selection import cross_val_score\n",
    "from sklearn.model_selection import RepeatedStratifiedKFold\n",
    "from sklearn.ensemble import BaggingClassifier\n",
    "from imblearn.ensemble import BalancedBaggingClassifier\n",
    "from imblearn.ensemble import BalancedRandomForestClassifier\n",
    "from imblearn.ensemble import EasyEnsembleClassifier"
   ]
  },
  {
   "cell_type": "code",
   "execution_count": 197,
   "metadata": {
    "tags": []
   },
   "outputs": [
    {
     "name": "stdout",
     "output_type": "stream",
     "text": [
      "Accuracy Score: 0.9714917670189236\n",
      "\n",
      "Feature Importance from Model\n",
      "------------------------------\n",
      "Feature: 0, Score: 0.03506\n",
      "Feature: 1, Score: 0.02922\n",
      "Feature: 2, Score: 0.70214\n",
      "Feature: 3, Score: 0.03779\n",
      "Feature: 4, Score: 0.01870\n",
      "Feature: 5, Score: 0.01020\n",
      "Feature: 6, Score: 0.01028\n",
      "Feature: 7, Score: 0.01300\n",
      "Feature: 8, Score: 0.02542\n",
      "Feature: 9, Score: 0.02231\n",
      "Feature: 10, Score: 0.03758\n",
      "Feature: 11, Score: 0.01681\n",
      "Feature: 12, Score: 0.02918\n",
      "Feature: 13, Score: 0.01231\n"
     ]
    },
    {
     "data": {
      "image/png": "[encoded data removed]",
      "text/plain": [
       "<Figure size 432x288 with 1 Axes>"
      ]
     },
     "metadata": {
      "needs_background": "light"
     },
     "output_type": "display_data"
    },
    {
     "name": "stdout",
     "output_type": "stream",
     "text": [
      "Permutation Feature Importance\n",
      "------------------------------\n",
      "Feature: 0, Score: 0.00746\n",
      "Feature: 1, Score: 0.01481\n",
      "Feature: 2, Score: 0.30044\n",
      "Feature: 3, Score: 0.01927\n",
      "Feature: 4, Score: 0.00228\n",
      "Feature: 5, Score: 0.00204\n",
      "Feature: 6, Score: 0.00205\n",
      "Feature: 7, Score: 0.00291\n",
      "Feature: 8, Score: 0.00919\n",
      "Feature: 9, Score: 0.00607\n",
      "Feature: 10, Score: 0.03285\n",
      "Feature: 11, Score: 0.00477\n",
      "Feature: 12, Score: 0.01339\n",
      "Feature: 13, Score: 0.00158\n"
     ]
    },
    {
     "data": {
      "image/png": "[encoded data removed]",
      "text/plain": [
       "<Figure size 432x288 with 1 Axes>"
      ]
     },
     "metadata": {
      "needs_background": "light"
     },
     "output_type": "display_data"
    },
    {
     "name": "stdout",
     "output_type": "stream",
     "text": [
      "Feature Importance based on Mean Decrease in Impurity(MDI)\n",
      "--------------------------------------------------\n",
      "\n",
      "Classification Report:\n",
      "----------------------\n",
      "              precision    recall  f1-score   support\n",
      "\n",
      "      medium       0.36      0.15      0.21      1375\n",
      "        high       0.34      0.85      0.49      1394\n",
      "\n",
      "   micro avg       0.34      0.50      0.41      2769\n",
      "   macro avg       0.35      0.50      0.35      2769\n",
      "weighted avg       0.35      0.50      0.35      2769\n",
      "\n",
      "\n",
      "Confusion Matrix:\n"
     ]
    },
    {
     "data": {
      "text/html": [
       "<div>\n",
       "<style scoped>\n",
       "    .dataframe tbody tr th:only-of-type {\n",
       "        vertical-align: middle;\n",
       "    }\n",
       "\n",
       "    .dataframe tbody tr th {\n",
       "        vertical-align: top;\n",
       "    }\n",
       "\n",
       "    .dataframe thead th {\n",
       "        text-align: right;\n",
       "    }\n",
       "</style>\n",
       "<table border=\"1\" class=\"dataframe\">\n",
       "  <thead>\n",
       "    <tr style=\"text-align: right;\">\n",
       "      <th></th>\n",
       "      <th>Predicted Negative</th>\n",
       "      <th>Predicted Positive</th>\n",
       "    </tr>\n",
       "  </thead>\n",
       "  <tbody>\n",
       "    <tr>\n",
       "      <th>Actual Negative</th>\n",
       "      <td>529</td>\n",
       "      <td>75</td>\n",
       "    </tr>\n",
       "    <tr>\n",
       "      <th>Actual Positive</th>\n",
       "      <td>41</td>\n",
       "      <td>3424</td>\n",
       "    </tr>\n",
       "  </tbody>\n",
       "</table>\n",
       "</div>"
      ],
      "text/plain": [
       "                 Predicted Negative  Predicted Positive\n",
       "Actual Negative                 529                  75\n",
       "Actual Positive                  41                3424"
      ]
     },
     "metadata": {},
     "output_type": "display_data"
    },
    {
     "name": "stdout",
     "output_type": "stream",
     "text": [
      "\n",
      "Classification Metrics:\n",
      "-----------------------\n",
      "True Positives: 3424\n",
      "True Negatives: 529\n",
      "False Positives: 75\n",
      "False Negatives: 41\n",
      "\n",
      "True Positive Rate: 0.9881673881673881\n",
      "False Positive Rate: 0.12417218543046357\n",
      "\n",
      "The 6 metrics:\n",
      "---------------\n",
      "Accuracy: 0.97\n",
      "Mis-classification: 0.03\n",
      "Sensitivity: 0.99\n",
      "Specificty: 0.88\n",
      "Precision: 0.98\n",
      "F1 Score: 0.98\n",
      "\n",
      "ROC AUC Score: 0.9978791074254312\n",
      "\n",
      "Mean ROC AUC Score: 0.9524937195953836\n",
      "\n"
     ]
    },
    {
     "data": {
      "image/png": "[encoded data removed]",
      "text/plain": [
       "<Figure size 432x288 with 1 Axes>"
      ]
     },
     "metadata": {
      "needs_background": "light"
     },
     "output_type": "display_data"
    },
    {
     "data": {
      "image/png": "[encoded data removed]",
      "text/plain": [
       "<Figure size 432x288 with 1 Axes>"
      ]
     },
     "metadata": {
      "needs_background": "light"
     },
     "output_type": "display_data"
    },
    {
     "name": "stdout",
     "output_type": "stream",
     "text": [
      "total time taken: 0:01:17.234907\n"
     ]
    }
   ],
   "source": [
    "# Standard Bagging\n",
    "start = datetime.datetime.now()\n",
    "print('Standard Bagging using the BaggingClassifier\\n')\n",
    "bc_model = BaggingClassifier(n_estimators=100)\n",
    "analyze_model(bc_model, X, X_test, y_test, features)\n",
    "end = datetime.datetime.now()\n",
    "print(f'total time taken: {end-start}')"
   ]
  },
  {
   "cell_type": "code",
   "execution_count": 204,
   "metadata": {
    "tags": []
   },
   "outputs": [
    {
     "name": "stdout",
     "output_type": "stream",
     "text": [
      "Bagging with Random Undersampling using the BalancedBaggingClassifier\n",
      "\n",
      "Accuracy Score: 0.9466699434750553\n",
      "\n",
      "Feature Importance from Model\n",
      "------------------------------\n"
     ]
    },
    {
     "ename": "AttributeError",
     "evalue": "'Pipeline' object has no attribute 'feature_importances_'",
     "output_type": "error",
     "traceback": [
      "\u001b[1;31m---------------------------------------------------------------------------\u001b[0m",
      "\u001b[1;31mAttributeError\u001b[0m                            Traceback (most recent call last)",
      "\u001b[1;32m<ipython-input-204-cc601407e686>\u001b[0m in \u001b[0;36m<module>\u001b[1;34m\u001b[0m\n\u001b[0;32m      3\u001b[0m \u001b[0mprint\u001b[0m\u001b[1;33m(\u001b[0m\u001b[1;34m'Bagging with Random Undersampling using the BalancedBaggingClassifier\\n'\u001b[0m\u001b[1;33m)\u001b[0m\u001b[1;33m\u001b[0m\u001b[1;33m\u001b[0m\u001b[0m\n\u001b[0;32m      4\u001b[0m \u001b[0mbbc_model\u001b[0m \u001b[1;33m=\u001b[0m \u001b[0mBalancedBaggingClassifier\u001b[0m\u001b[1;33m(\u001b[0m\u001b[0mn_estimators\u001b[0m\u001b[1;33m=\u001b[0m\u001b[1;36m100\u001b[0m\u001b[1;33m)\u001b[0m\u001b[1;33m\u001b[0m\u001b[1;33m\u001b[0m\u001b[0m\n\u001b[1;32m----> 5\u001b[1;33m \u001b[0manalyze_model\u001b[0m\u001b[1;33m(\u001b[0m\u001b[0mbbc_model\u001b[0m\u001b[1;33m,\u001b[0m \u001b[0mX\u001b[0m\u001b[1;33m,\u001b[0m \u001b[0mX_test\u001b[0m\u001b[1;33m,\u001b[0m \u001b[0my_test\u001b[0m\u001b[1;33m,\u001b[0m \u001b[0mfeatures\u001b[0m\u001b[1;33m)\u001b[0m\u001b[1;33m\u001b[0m\u001b[1;33m\u001b[0m\u001b[0m\n\u001b[0m\u001b[0;32m      6\u001b[0m \u001b[0mend\u001b[0m \u001b[1;33m=\u001b[0m \u001b[0mdatetime\u001b[0m\u001b[1;33m.\u001b[0m\u001b[0mdatetime\u001b[0m\u001b[1;33m.\u001b[0m\u001b[0mnow\u001b[0m\u001b[1;33m(\u001b[0m\u001b[1;33m)\u001b[0m\u001b[1;33m\u001b[0m\u001b[1;33m\u001b[0m\u001b[0m\n\u001b[0;32m      7\u001b[0m \u001b[0mprint\u001b[0m\u001b[1;33m(\u001b[0m\u001b[1;34mf'total time taken: {end-start}'\u001b[0m\u001b[1;33m)\u001b[0m\u001b[1;33m\u001b[0m\u001b[1;33m\u001b[0m\u001b[0m\n",
      "\u001b[1;32m<ipython-input-185-fb22fb440da1>\u001b[0m in \u001b[0;36manalyze_model\u001b[1;34m(model, X, X_test, y_test, features)\u001b[0m\n\u001b[0;32m      5\u001b[0m     \u001b[0mprint_model_accuracy\u001b[0m\u001b[1;33m(\u001b[0m\u001b[0my_test\u001b[0m\u001b[1;33m,\u001b[0m \u001b[0my_pred\u001b[0m\u001b[1;33m)\u001b[0m\u001b[1;33m\u001b[0m\u001b[1;33m\u001b[0m\u001b[0m\n\u001b[0;32m      6\u001b[0m     \u001b[0mprint\u001b[0m\u001b[1;33m(\u001b[0m\u001b[1;33m)\u001b[0m\u001b[1;33m\u001b[0m\u001b[1;33m\u001b[0m\u001b[0m\n\u001b[1;32m----> 7\u001b[1;33m     \u001b[0mdisplay_model_feature_importance\u001b[0m\u001b[1;33m(\u001b[0m\u001b[0mmodel\u001b[0m\u001b[1;33m,\u001b[0m \u001b[0mfeatures\u001b[0m\u001b[1;33m)\u001b[0m\u001b[1;33m\u001b[0m\u001b[1;33m\u001b[0m\u001b[0m\n\u001b[0m\u001b[0;32m      8\u001b[0m     \u001b[0mdisplay_permutation_feature_importance\u001b[0m\u001b[1;33m(\u001b[0m\u001b[0mmodel\u001b[0m\u001b[1;33m,\u001b[0m \u001b[0mX\u001b[0m\u001b[1;33m)\u001b[0m\u001b[1;33m\u001b[0m\u001b[1;33m\u001b[0m\u001b[0m\n\u001b[0;32m      9\u001b[0m     \u001b[0mdisplay_mdi_feature_importance\u001b[0m\u001b[1;33m(\u001b[0m\u001b[0mmodel\u001b[0m\u001b[1;33m,\u001b[0m \u001b[0mfeatures\u001b[0m\u001b[1;33m)\u001b[0m\u001b[1;33m\u001b[0m\u001b[1;33m\u001b[0m\u001b[0m\n",
      "\u001b[1;32m<ipython-input-203-4bd7ef716528>\u001b[0m in \u001b[0;36mdisplay_model_feature_importance\u001b[1;34m(model, features)\u001b[0m\n\u001b[0;32m      6\u001b[0m     \u001b[1;31m# importance_scores = pd.Series(model.feature_importances_, index=features).sort_values(ascending=False)\u001b[0m\u001b[1;33m\u001b[0m\u001b[1;33m\u001b[0m\u001b[1;33m\u001b[0m\u001b[0m\n\u001b[0;32m      7\u001b[0m     \u001b[1;31m# importance_scores = model.best_estimator_._final_estimator.feature_importances_\u001b[0m\u001b[1;33m\u001b[0m\u001b[1;33m\u001b[0m\u001b[1;33m\u001b[0m\u001b[0m\n\u001b[1;32m----> 8\u001b[1;33m     \u001b[0mimportance_scores\u001b[0m \u001b[1;33m=\u001b[0m \u001b[0mnp\u001b[0m\u001b[1;33m.\u001b[0m\u001b[0mmean\u001b[0m\u001b[1;33m(\u001b[0m\u001b[1;33m[\u001b[0m\u001b[0mtree\u001b[0m\u001b[1;33m.\u001b[0m\u001b[0mfeature_importances_\u001b[0m \u001b[1;32mfor\u001b[0m \u001b[0mtree\u001b[0m \u001b[1;32min\u001b[0m \u001b[0mmodel\u001b[0m\u001b[1;33m.\u001b[0m\u001b[0mestimators_\u001b[0m\u001b[1;33m]\u001b[0m\u001b[1;33m,\u001b[0m \u001b[0maxis\u001b[0m\u001b[1;33m=\u001b[0m\u001b[1;36m0\u001b[0m\u001b[1;33m)\u001b[0m\u001b[1;33m\u001b[0m\u001b[1;33m\u001b[0m\u001b[0m\n\u001b[0m\u001b[0;32m      9\u001b[0m \u001b[1;33m\u001b[0m\u001b[0m\n\u001b[0;32m     10\u001b[0m     \u001b[1;31m# print features & their scores\u001b[0m\u001b[1;33m\u001b[0m\u001b[1;33m\u001b[0m\u001b[1;33m\u001b[0m\u001b[0m\n",
      "\u001b[1;32m<ipython-input-203-4bd7ef716528>\u001b[0m in \u001b[0;36m<listcomp>\u001b[1;34m(.0)\u001b[0m\n\u001b[0;32m      6\u001b[0m     \u001b[1;31m# importance_scores = pd.Series(model.feature_importances_, index=features).sort_values(ascending=False)\u001b[0m\u001b[1;33m\u001b[0m\u001b[1;33m\u001b[0m\u001b[1;33m\u001b[0m\u001b[0m\n\u001b[0;32m      7\u001b[0m     \u001b[1;31m# importance_scores = model.best_estimator_._final_estimator.feature_importances_\u001b[0m\u001b[1;33m\u001b[0m\u001b[1;33m\u001b[0m\u001b[1;33m\u001b[0m\u001b[0m\n\u001b[1;32m----> 8\u001b[1;33m     \u001b[0mimportance_scores\u001b[0m \u001b[1;33m=\u001b[0m \u001b[0mnp\u001b[0m\u001b[1;33m.\u001b[0m\u001b[0mmean\u001b[0m\u001b[1;33m(\u001b[0m\u001b[1;33m[\u001b[0m\u001b[0mtree\u001b[0m\u001b[1;33m.\u001b[0m\u001b[0mfeature_importances_\u001b[0m \u001b[1;32mfor\u001b[0m \u001b[0mtree\u001b[0m \u001b[1;32min\u001b[0m \u001b[0mmodel\u001b[0m\u001b[1;33m.\u001b[0m\u001b[0mestimators_\u001b[0m\u001b[1;33m]\u001b[0m\u001b[1;33m,\u001b[0m \u001b[0maxis\u001b[0m\u001b[1;33m=\u001b[0m\u001b[1;36m0\u001b[0m\u001b[1;33m)\u001b[0m\u001b[1;33m\u001b[0m\u001b[1;33m\u001b[0m\u001b[0m\n\u001b[0m\u001b[0;32m      9\u001b[0m \u001b[1;33m\u001b[0m\u001b[0m\n\u001b[0;32m     10\u001b[0m     \u001b[1;31m# print features & their scores\u001b[0m\u001b[1;33m\u001b[0m\u001b[1;33m\u001b[0m\u001b[1;33m\u001b[0m\u001b[0m\n",
      "\u001b[1;31mAttributeError\u001b[0m: 'Pipeline' object has no attribute 'feature_importances_'"
     ]
    }
   ],
   "source": [
    "# Bagging with Random Undersampling\n",
    "start = datetime.datetime.now()\n",
    "print('Bagging with Random Undersampling using the BalancedBaggingClassifier\\n')\n",
    "bbc_model = BalancedBaggingClassifier(n_estimators=100)\n",
    "analyze_model(bbc_model, X, X_test, y_test, features)\n",
    "end = datetime.datetime.now()\n",
    "print(f'total time taken: {end-start}')"
   ]
  },
  {
   "cell_type": "code",
   "execution_count": 205,
   "metadata": {
    "tags": []
   },
   "outputs": [
    {
     "name": "stdout",
     "output_type": "stream",
     "text": [
      "Bagging with Random Undersampling using the BalancedBaggingClassifier\n",
      "\n",
      "Accuracy Score: 0.9107888916195626\n",
      "\n",
      "Feature Importance from Model\n",
      "------------------------------\n",
      "Feature: 0, Score: 0.06785\n",
      "Feature: 1, Score: 0.06637\n",
      "Feature: 2, Score: 0.28097\n",
      "Feature: 3, Score: 0.06582\n",
      "Feature: 4, Score: 0.03733\n",
      "Feature: 5, Score: 0.02097\n",
      "Feature: 6, Score: 0.02541\n",
      "Feature: 7, Score: 0.02837\n",
      "Feature: 8, Score: 0.05586\n",
      "Feature: 9, Score: 0.06427\n",
      "Feature: 10, Score: 0.08187\n",
      "Feature: 11, Score: 0.06436\n",
      "Feature: 12, Score: 0.07951\n",
      "Feature: 13, Score: 0.06107\n"
     ]
    },
    {
     "data": {
      "image/png": "[encoded data removed]",
      "text/plain": [
       "<Figure size 432x288 with 1 Axes>"
      ]
     },
     "metadata": {
      "needs_background": "light"
     },
     "output_type": "display_data"
    },
    {
     "name": "stdout",
     "output_type": "stream",
     "text": [
      "Permutation Feature Importance\n",
      "------------------------------\n",
      "Feature: 0, Score: 0.01277\n",
      "Feature: 1, Score: 0.00870\n",
      "Feature: 2, Score: 0.12482\n",
      "Feature: 3, Score: 0.01442\n",
      "Feature: 4, Score: 0.00190\n",
      "Feature: 5, Score: 0.00117\n",
      "Feature: 6, Score: 0.00166\n",
      "Feature: 7, Score: 0.00183\n",
      "Feature: 8, Score: 0.00728\n",
      "Feature: 9, Score: 0.00432\n",
      "Feature: 10, Score: 0.01854\n",
      "Feature: 11, Score: 0.00237\n",
      "Feature: 12, Score: 0.01440\n",
      "Feature: 13, Score: 0.00235\n"
     ]
    },
    {
     "data": {
      "image/png": "[encoded data removed]",
      "text/plain": [
       "<Figure size 432x288 with 1 Axes>"
      ]
     },
     "metadata": {
      "needs_background": "light"
     },
     "output_type": "display_data"
    },
    {
     "name": "stdout",
     "output_type": "stream",
     "text": [
      "Feature Importance based on Mean Decrease in Impurity(MDI)\n",
      "--------------------------------------------------\n",
      "\n",
      "Classification Report:\n",
      "----------------------\n",
      "              precision    recall  f1-score   support\n",
      "\n",
      "      medium       0.32      0.08      0.13      1386\n",
      "        high       0.33      0.91      0.48      1339\n",
      "\n",
      "   micro avg       0.33      0.49      0.39      2725\n",
      "   macro avg       0.32      0.49      0.30      2725\n",
      "weighted avg       0.32      0.49      0.30      2725\n",
      "\n",
      "\n",
      "Confusion Matrix:\n"
     ]
    },
    {
     "data": {
      "text/html": [
       "<div>\n",
       "<style scoped>\n",
       "    .dataframe tbody tr th:only-of-type {\n",
       "        vertical-align: middle;\n",
       "    }\n",
       "\n",
       "    .dataframe tbody tr th {\n",
       "        vertical-align: top;\n",
       "    }\n",
       "\n",
       "    .dataframe thead th {\n",
       "        text-align: right;\n",
       "    }\n",
       "</style>\n",
       "<table border=\"1\" class=\"dataframe\">\n",
       "  <thead>\n",
       "    <tr style=\"text-align: right;\">\n",
       "      <th></th>\n",
       "      <th>Predicted Negative</th>\n",
       "      <th>Predicted Positive</th>\n",
       "    </tr>\n",
       "  </thead>\n",
       "  <tbody>\n",
       "    <tr>\n",
       "      <th>Actual Negative</th>\n",
       "      <td>295</td>\n",
       "      <td>309</td>\n",
       "    </tr>\n",
       "    <tr>\n",
       "      <th>Actual Positive</th>\n",
       "      <td>54</td>\n",
       "      <td>3411</td>\n",
       "    </tr>\n",
       "  </tbody>\n",
       "</table>\n",
       "</div>"
      ],
      "text/plain": [
       "                 Predicted Negative  Predicted Positive\n",
       "Actual Negative                 295                 309\n",
       "Actual Positive                  54                3411"
      ]
     },
     "metadata": {},
     "output_type": "display_data"
    },
    {
     "name": "stdout",
     "output_type": "stream",
     "text": [
      "\n",
      "Classification Metrics:\n",
      "-----------------------\n",
      "True Positives: 3411\n",
      "True Negatives: 295\n",
      "False Positives: 309\n",
      "False Negatives: 54\n",
      "\n",
      "True Positive Rate: 0.9844155844155844\n",
      "False Positive Rate: 0.5115894039735099\n",
      "\n",
      "The 6 metrics:\n",
      "---------------\n",
      "Accuracy: 0.91\n",
      "Mis-classification: 0.09\n",
      "Sensitivity: 0.98\n",
      "Specificty: 0.49\n",
      "Precision: 0.92\n",
      "F1 Score: 0.95\n",
      "\n",
      "ROC AUC Score: 0.9986452659980686\n",
      "\n",
      "Mean ROC AUC Score: 0.9528304439789913\n",
      "\n"
     ]
    },
    {
     "data": {
      "image/png": "[encoded data removed]",
      "text/plain": [
       "<Figure size 432x288 with 1 Axes>"
      ]
     },
     "metadata": {
      "needs_background": "light"
     },
     "output_type": "display_data"
    },
    {
     "data": {
      "image/png": "[encoded data removed]",
      "text/plain": [
       "<Figure size 432x288 with 1 Axes>"
      ]
     },
     "metadata": {
      "needs_background": "light"
     },
     "output_type": "display_data"
    }
   ],
   "source": [
    "# Standard Random Forest\n",
    "print('Bagging with Random Undersampling using the BalancedBaggingClassifier\\n')\n",
    "srfc_model = RandomForestClassifier(n_estimators=100)\n",
    "analyze_model(srfc_model, X, X_test, y_test, features)"
   ]
  },
  {
   "cell_type": "code",
   "execution_count": 206,
   "metadata": {
    "tags": []
   },
   "outputs": [
    {
     "name": "stdout",
     "output_type": "stream",
     "text": [
      "Accuracy Score: 0.9014499877119685\n",
      "\n",
      "Feature Importance from Model\n",
      "------------------------------\n",
      "Feature: 0, Score: 0.06223\n",
      "Feature: 1, Score: 0.06367\n",
      "Feature: 2, Score: 0.33571\n",
      "Feature: 3, Score: 0.05837\n",
      "Feature: 4, Score: 0.03347\n",
      "Feature: 5, Score: 0.01990\n",
      "Feature: 6, Score: 0.02483\n",
      "Feature: 7, Score: 0.02474\n",
      "Feature: 8, Score: 0.05313\n",
      "Feature: 9, Score: 0.06005\n",
      "Feature: 10, Score: 0.07470\n",
      "Feature: 11, Score: 0.05838\n",
      "Feature: 12, Score: 0.07678\n",
      "Feature: 13, Score: 0.05404\n"
     ]
    },
    {
     "data": {
      "image/png": "[encoded data removed]",
      "text/plain": [
       "<Figure size 432x288 with 1 Axes>"
      ]
     },
     "metadata": {
      "needs_background": "light"
     },
     "output_type": "display_data"
    },
    {
     "name": "stdout",
     "output_type": "stream",
     "text": [
      "Permutation Feature Importance\n",
      "------------------------------\n",
      "Feature: 0, Score: 0.02068\n",
      "Feature: 1, Score: 0.01676\n",
      "Feature: 2, Score: 0.11600\n",
      "Feature: 3, Score: 0.02720\n",
      "Feature: 4, Score: 0.00559\n",
      "Feature: 5, Score: 0.00343\n",
      "Feature: 6, Score: 0.00368\n",
      "Feature: 7, Score: 0.00175\n",
      "Feature: 8, Score: 0.02011\n",
      "Feature: 9, Score: 0.01765\n",
      "Feature: 10, Score: 0.03277\n",
      "Feature: 11, Score: 0.01504\n",
      "Feature: 12, Score: 0.02855\n",
      "Feature: 13, Score: 0.01478\n"
     ]
    },
    {
     "data": {
      "image/png": "[encoded data removed]",
      "text/plain": [
       "<Figure size 432x288 with 1 Axes>"
      ]
     },
     "metadata": {
      "needs_background": "light"
     },
     "output_type": "display_data"
    },
    {
     "name": "stdout",
     "output_type": "stream",
     "text": [
      "Feature Importance based on Mean Decrease in Impurity(MDI)\n",
      "--------------------------------------------------\n",
      "\n",
      "Classification Report:\n",
      "----------------------\n",
      "              precision    recall  f1-score   support\n",
      "\n",
      "      medium       0.34      0.07      0.11      1379\n",
      "        high       0.33      0.93      0.49      1364\n",
      "\n",
      "   micro avg       0.33      0.50      0.40      2743\n",
      "   macro avg       0.34      0.50      0.30      2743\n",
      "weighted avg       0.34      0.50      0.30      2743\n",
      "\n",
      "\n",
      "Confusion Matrix:\n"
     ]
    },
    {
     "data": {
      "text/html": [
       "<div>\n",
       "<style scoped>\n",
       "    .dataframe tbody tr th:only-of-type {\n",
       "        vertical-align: middle;\n",
       "    }\n",
       "\n",
       "    .dataframe tbody tr th {\n",
       "        vertical-align: top;\n",
       "    }\n",
       "\n",
       "    .dataframe thead th {\n",
       "        text-align: right;\n",
       "    }\n",
       "</style>\n",
       "<table border=\"1\" class=\"dataframe\">\n",
       "  <thead>\n",
       "    <tr style=\"text-align: right;\">\n",
       "      <th></th>\n",
       "      <th>Predicted Negative</th>\n",
       "      <th>Predicted Positive</th>\n",
       "    </tr>\n",
       "  </thead>\n",
       "  <tbody>\n",
       "    <tr>\n",
       "      <th>Actual Negative</th>\n",
       "      <td>238</td>\n",
       "      <td>366</td>\n",
       "    </tr>\n",
       "    <tr>\n",
       "      <th>Actual Positive</th>\n",
       "      <td>35</td>\n",
       "      <td>3430</td>\n",
       "    </tr>\n",
       "  </tbody>\n",
       "</table>\n",
       "</div>"
      ],
      "text/plain": [
       "                 Predicted Negative  Predicted Positive\n",
       "Actual Negative                 238                 366\n",
       "Actual Positive                  35                3430"
      ]
     },
     "metadata": {},
     "output_type": "display_data"
    },
    {
     "name": "stdout",
     "output_type": "stream",
     "text": [
      "\n",
      "Classification Metrics:\n",
      "-----------------------\n",
      "True Positives: 3430\n",
      "True Negatives: 238\n",
      "False Positives: 366\n",
      "False Negatives: 35\n",
      "\n",
      "True Positive Rate: 0.98989898989899\n",
      "False Positive Rate: 0.6059602649006622\n",
      "\n",
      "The 6 metrics:\n",
      "---------------\n",
      "Accuracy: 0.9\n",
      "Mis-classification: 0.1\n",
      "Sensitivity: 0.99\n",
      "Specificty: 0.39\n",
      "Precision: 0.9\n",
      "F1 Score: 0.94\n",
      "\n",
      "ROC AUC Score: 0.9984217359458805\n",
      "\n",
      "Mean ROC AUC Score: 0.9530028570364817\n",
      "\n"
     ]
    },
    {
     "data": {
      "image/png": "[encoded data removed]",
      "text/plain": [
       "<Figure size 432x288 with 1 Axes>"
      ]
     },
     "metadata": {
      "needs_background": "light"
     },
     "output_type": "display_data"
    },
    {
     "data": {
      "image/png": "[encoded data removed]",
      "text/plain": [
       "<Figure size 432x288 with 1 Axes>"
      ]
     },
     "metadata": {
      "needs_background": "light"
     },
     "output_type": "display_data"
    }
   ],
   "source": [
    "# Random Forest with Class Weighting\n",
    "print('Random Forest with Class Weighting using the RandomForestClassifier\\n')\n",
    "rfc_cw_model = RandomForestClassifier(n_estimators=100, class_weight='balanced')\n",
    "analyze_model(rfc_cw_model, X, X_test, y_test, features)"
   ]
  },
  {
   "cell_type": "code",
   "execution_count": 208,
   "metadata": {
    "tags": []
   },
   "outputs": [
    {
     "name": "stdout",
     "output_type": "stream",
     "text": [
      "Accuracy Score: 0.9029245514868518\n",
      "\n",
      "Feature Importance from Model\n",
      "------------------------------\n",
      "Feature: 0, Score: 0.06211\n",
      "Feature: 1, Score: 0.06332\n",
      "Feature: 2, Score: 0.32676\n",
      "Feature: 3, Score: 0.05930\n",
      "Feature: 4, Score: 0.03362\n",
      "Feature: 5, Score: 0.02063\n",
      "Feature: 6, Score: 0.02499\n",
      "Feature: 7, Score: 0.02471\n",
      "Feature: 8, Score: 0.05125\n",
      "Feature: 9, Score: 0.06182\n",
      "Feature: 10, Score: 0.07819\n",
      "Feature: 11, Score: 0.05807\n",
      "Feature: 12, Score: 0.07767\n",
      "Feature: 13, Score: 0.05758\n"
     ]
    },
    {
     "data": {
      "image/png": "[encoded data removed]",
      "text/plain": [
       "<Figure size 432x288 with 1 Axes>"
      ]
     },
     "metadata": {
      "needs_background": "light"
     },
     "output_type": "display_data"
    },
    {
     "name": "stdout",
     "output_type": "stream",
     "text": [
      "Permutation Feature Importance\n",
      "------------------------------\n",
      "Feature: 0, Score: 0.02272\n",
      "Feature: 1, Score: 0.01767\n",
      "Feature: 2, Score: 0.11141\n",
      "Feature: 3, Score: 0.02850\n",
      "Feature: 4, Score: 0.00642\n",
      "Feature: 5, Score: 0.00521\n",
      "Feature: 6, Score: 0.00331\n",
      "Feature: 7, Score: 0.00187\n",
      "Feature: 8, Score: 0.01941\n",
      "Feature: 9, Score: 0.02194\n",
      "Feature: 10, Score: 0.03483\n",
      "Feature: 11, Score: 0.01417\n",
      "Feature: 12, Score: 0.03345\n",
      "Feature: 13, Score: 0.01544\n"
     ]
    },
    {
     "data": {
      "image/png": "[encoded data removed]",
      "text/plain": [
       "<Figure size 432x288 with 1 Axes>"
      ]
     },
     "metadata": {
      "needs_background": "light"
     },
     "output_type": "display_data"
    },
    {
     "name": "stdout",
     "output_type": "stream",
     "text": [
      "Feature Importance based on Mean Decrease in Impurity(MDI)\n",
      "--------------------------------------------------\n",
      "\n",
      "Classification Report:\n",
      "----------------------\n",
      "              precision    recall  f1-score   support\n",
      "\n",
      "      medium       0.37      0.07      0.12      1334\n",
      "        high       0.34      0.94      0.50      1376\n",
      "\n",
      "   micro avg       0.34      0.51      0.41      2710\n",
      "   macro avg       0.35      0.51      0.31      2710\n",
      "weighted avg       0.35      0.51      0.31      2710\n",
      "\n",
      "\n",
      "Confusion Matrix:\n"
     ]
    },
    {
     "data": {
      "text/html": [
       "<div>\n",
       "<style scoped>\n",
       "    .dataframe tbody tr th:only-of-type {\n",
       "        vertical-align: middle;\n",
       "    }\n",
       "\n",
       "    .dataframe tbody tr th {\n",
       "        vertical-align: top;\n",
       "    }\n",
       "\n",
       "    .dataframe thead th {\n",
       "        text-align: right;\n",
       "    }\n",
       "</style>\n",
       "<table border=\"1\" class=\"dataframe\">\n",
       "  <thead>\n",
       "    <tr style=\"text-align: right;\">\n",
       "      <th></th>\n",
       "      <th>Predicted Negative</th>\n",
       "      <th>Predicted Positive</th>\n",
       "    </tr>\n",
       "  </thead>\n",
       "  <tbody>\n",
       "    <tr>\n",
       "      <th>Actual Negative</th>\n",
       "      <td>240</td>\n",
       "      <td>364</td>\n",
       "    </tr>\n",
       "    <tr>\n",
       "      <th>Actual Positive</th>\n",
       "      <td>31</td>\n",
       "      <td>3434</td>\n",
       "    </tr>\n",
       "  </tbody>\n",
       "</table>\n",
       "</div>"
      ],
      "text/plain": [
       "                 Predicted Negative  Predicted Positive\n",
       "Actual Negative                 240                 364\n",
       "Actual Positive                  31                3434"
      ]
     },
     "metadata": {},
     "output_type": "display_data"
    },
    {
     "name": "stdout",
     "output_type": "stream",
     "text": [
      "\n",
      "Classification Metrics:\n",
      "-----------------------\n",
      "True Positives: 3434\n",
      "True Negatives: 240\n",
      "False Positives: 364\n",
      "False Negatives: 31\n",
      "\n",
      "True Positive Rate: 0.9910533910533911\n",
      "False Positive Rate: 0.6026490066225165\n",
      "\n",
      "The 6 metrics:\n",
      "---------------\n",
      "Accuracy: 0.9\n",
      "Mis-classification: 0.1\n",
      "Sensitivity: 0.99\n",
      "Specificty: 0.4\n",
      "Precision: 0.9\n",
      "F1 Score: 0.95\n",
      "\n",
      "ROC AUC Score: 0.9982999331098042\n",
      "\n",
      "Mean ROC AUC Score: 0.9526515001858744\n",
      "\n"
     ]
    },
    {
     "data": {
      "image/png": "[encoded data removed]",
      "text/plain": [
       "<Figure size 432x288 with 1 Axes>"
      ]
     },
     "metadata": {
      "needs_background": "light"
     },
     "output_type": "display_data"
    },
    {
     "data": {
      "image/png": "[encoded data removed]",
      "text/plain": [
       "<Figure size 432x288 with 1 Axes>"
      ]
     },
     "metadata": {
      "needs_background": "light"
     },
     "output_type": "display_data"
    }
   ],
   "source": [
    "# Random Forest with Bootstrap Class Weighting\n",
    "print('Random Forest with Bootstrap Class Weighting using the RandomForestClassifier\\n')\n",
    "rfc_bcw_model = RandomForestClassifier(n_estimators=100, class_weight='balanced_subsample')\n",
    "analyze_model(rfc_bcw_model, X, X_test, y_test, features)"
   ]
  },
  {
   "cell_type": "code",
   "execution_count": 209,
   "metadata": {
    "tags": []
   },
   "outputs": [
    {
     "name": "stdout",
     "output_type": "stream",
     "text": [
      "Random Forest with Random Undersampling using the BalancedRandomForestClassifier\n",
      "\n",
      "Accuracy Score: 0.78766281641681\n",
      "\n",
      "Feature Importance from Model\n",
      "------------------------------\n",
      "Feature: 0, Score: 0.06411\n",
      "Feature: 1, Score: 0.06244\n",
      "Feature: 2, Score: 0.31495\n",
      "Feature: 3, Score: 0.06136\n",
      "Feature: 4, Score: 0.03513\n",
      "Feature: 5, Score: 0.01994\n",
      "Feature: 6, Score: 0.02609\n",
      "Feature: 7, Score: 0.02452\n",
      "Feature: 8, Score: 0.05255\n",
      "Feature: 9, Score: 0.06222\n",
      "Feature: 10, Score: 0.07765\n",
      "Feature: 11, Score: 0.06159\n",
      "Feature: 12, Score: 0.07874\n",
      "Feature: 13, Score: 0.05870\n"
     ]
    },
    {
     "data": {
      "image/png": "[encoded data removed]",
      "text/plain": [
       "<Figure size 432x288 with 1 Axes>"
      ]
     },
     "metadata": {
      "needs_background": "light"
     },
     "output_type": "display_data"
    },
    {
     "name": "stdout",
     "output_type": "stream",
     "text": [
      "Permutation Feature Importance\n",
      "------------------------------\n",
      "Feature: 0, Score: 0.02984\n",
      "Feature: 1, Score: 0.02320\n",
      "Feature: 2, Score: 0.23119\n",
      "Feature: 3, Score: 0.02469\n",
      "Feature: 4, Score: 0.00860\n",
      "Feature: 5, Score: 0.00818\n",
      "Feature: 6, Score: 0.01229\n",
      "Feature: 7, Score: 0.00552\n",
      "Feature: 8, Score: 0.01664\n",
      "Feature: 9, Score: 0.02202\n",
      "Feature: 10, Score: 0.03822\n",
      "Feature: 11, Score: 0.01984\n",
      "Feature: 12, Score: 0.02353\n",
      "Feature: 13, Score: 0.02133\n"
     ]
    },
    {
     "data": {
      "image/png": "[encoded data removed]",
      "text/plain": [
       "<Figure size 432x288 with 1 Axes>"
      ]
     },
     "metadata": {
      "needs_background": "light"
     },
     "output_type": "display_data"
    },
    {
     "name": "stdout",
     "output_type": "stream",
     "text": [
      "Feature Importance based on Mean Decrease in Impurity(MDI)\n",
      "--------------------------------------------------\n",
      "\n",
      "Classification Report:\n",
      "----------------------\n",
      "              precision    recall  f1-score   support\n",
      "\n",
      "      medium       0.31      0.33      0.32      1309\n",
      "        high       0.32      0.63      0.43      1354\n",
      "\n",
      "   micro avg       0.32      0.48      0.38      2663\n",
      "   macro avg       0.32      0.48      0.37      2663\n",
      "weighted avg       0.32      0.48      0.37      2663\n",
      "\n",
      "\n",
      "Confusion Matrix:\n"
     ]
    },
    {
     "data": {
      "text/html": [
       "<div>\n",
       "<style scoped>\n",
       "    .dataframe tbody tr th:only-of-type {\n",
       "        vertical-align: middle;\n",
       "    }\n",
       "\n",
       "    .dataframe tbody tr th {\n",
       "        vertical-align: top;\n",
       "    }\n",
       "\n",
       "    .dataframe thead th {\n",
       "        text-align: right;\n",
       "    }\n",
       "</style>\n",
       "<table border=\"1\" class=\"dataframe\">\n",
       "  <thead>\n",
       "    <tr style=\"text-align: right;\">\n",
       "      <th></th>\n",
       "      <th>Predicted Negative</th>\n",
       "      <th>Predicted Positive</th>\n",
       "    </tr>\n",
       "  </thead>\n",
       "  <tbody>\n",
       "    <tr>\n",
       "      <th>Actual Negative</th>\n",
       "      <td>569</td>\n",
       "      <td>35</td>\n",
       "    </tr>\n",
       "    <tr>\n",
       "      <th>Actual Positive</th>\n",
       "      <td>829</td>\n",
       "      <td>2636</td>\n",
       "    </tr>\n",
       "  </tbody>\n",
       "</table>\n",
       "</div>"
      ],
      "text/plain": [
       "                 Predicted Negative  Predicted Positive\n",
       "Actual Negative                 569                  35\n",
       "Actual Positive                 829                2636"
      ]
     },
     "metadata": {},
     "output_type": "display_data"
    },
    {
     "name": "stdout",
     "output_type": "stream",
     "text": [
      "\n",
      "Classification Metrics:\n",
      "-----------------------\n",
      "True Positives: 2636\n",
      "True Negatives: 569\n",
      "False Positives: 35\n",
      "False Negatives: 829\n",
      "\n",
      "True Positive Rate: 0.7607503607503607\n",
      "False Positive Rate: 0.057947019867549666\n",
      "\n",
      "The 6 metrics:\n",
      "---------------\n",
      "Accuracy: 0.79\n",
      "Mis-classification: 0.21\n",
      "Sensitivity: 0.76\n",
      "Specificty: 0.94\n",
      "Precision: 0.99\n",
      "F1 Score: 0.86\n",
      "\n",
      "ROC AUC Score: 0.9950002904568016\n",
      "\n",
      "Mean ROC AUC Score: 0.9526797641876341\n",
      "\n"
     ]
    },
    {
     "data": {
      "image/png": "[encoded data removed]",
      "text/plain": [
       "<Figure size 432x288 with 1 Axes>"
      ]
     },
     "metadata": {
      "needs_background": "light"
     },
     "output_type": "display_data"
    },
    {
     "data": {
      "image/png": "[encoded data removed]",
      "text/plain": [
       "<Figure size 432x288 with 1 Axes>"
      ]
     },
     "metadata": {
      "needs_background": "light"
     },
     "output_type": "display_data"
    }
   ],
   "source": [
    "# Random Forest with Random Undersampling\n",
    "print('Random Forest with Random Undersampling using the BalancedRandomForestClassifier\\n')\n",
    "brfc_model = BalancedRandomForestClassifier(n_estimators=100)\n",
    "analyze_model(brfc_model, X, X_test, y_test, features)"
   ]
  },
  {
   "cell_type": "code",
   "execution_count": 213,
   "metadata": {
    "tags": []
   },
   "outputs": [
    {
     "name": "stdout",
     "output_type": "stream",
     "text": [
      "Easy Ensemble using the EasyEnsembleClassifier\n",
      "\n",
      "Accuracy Score: 0.7571884984025559\n",
      "\n",
      "Feature Importance from Model\n",
      "------------------------------\n"
     ]
    },
    {
     "ename": "AttributeError",
     "evalue": "'Pipeline' object has no attribute 'feature_importances_'",
     "output_type": "error",
     "traceback": [
      "\u001b[1;31m---------------------------------------------------------------------------\u001b[0m",
      "\u001b[1;31mAttributeError\u001b[0m                            Traceback (most recent call last)",
      "\u001b[1;32m<ipython-input-213-02a8fc6585be>\u001b[0m in \u001b[0;36m<module>\u001b[1;34m\u001b[0m\n\u001b[0;32m      2\u001b[0m \u001b[0mprint\u001b[0m\u001b[1;33m(\u001b[0m\u001b[1;34m'Easy Ensemble using the EasyEnsembleClassifier\\n'\u001b[0m\u001b[1;33m)\u001b[0m\u001b[1;33m\u001b[0m\u001b[1;33m\u001b[0m\u001b[0m\n\u001b[0;32m      3\u001b[0m \u001b[0meec_model\u001b[0m \u001b[1;33m=\u001b[0m \u001b[0mEasyEnsembleClassifier\u001b[0m\u001b[1;33m(\u001b[0m\u001b[0mn_estimators\u001b[0m\u001b[1;33m=\u001b[0m\u001b[1;36m100\u001b[0m\u001b[1;33m)\u001b[0m\u001b[1;33m\u001b[0m\u001b[1;33m\u001b[0m\u001b[0m\n\u001b[1;32m----> 4\u001b[1;33m \u001b[0manalyze_model\u001b[0m\u001b[1;33m(\u001b[0m\u001b[0meec_model\u001b[0m\u001b[1;33m,\u001b[0m \u001b[0mX\u001b[0m\u001b[1;33m,\u001b[0m \u001b[0mX_test\u001b[0m\u001b[1;33m,\u001b[0m \u001b[0my_test\u001b[0m\u001b[1;33m,\u001b[0m \u001b[0mfeatures\u001b[0m\u001b[1;33m)\u001b[0m\u001b[1;33m\u001b[0m\u001b[1;33m\u001b[0m\u001b[0m\n\u001b[0m",
      "\u001b[1;32m<ipython-input-185-fb22fb440da1>\u001b[0m in \u001b[0;36manalyze_model\u001b[1;34m(model, X, X_test, y_test, features)\u001b[0m\n\u001b[0;32m      5\u001b[0m     \u001b[0mprint_model_accuracy\u001b[0m\u001b[1;33m(\u001b[0m\u001b[0my_test\u001b[0m\u001b[1;33m,\u001b[0m \u001b[0my_pred\u001b[0m\u001b[1;33m)\u001b[0m\u001b[1;33m\u001b[0m\u001b[1;33m\u001b[0m\u001b[0m\n\u001b[0;32m      6\u001b[0m     \u001b[0mprint\u001b[0m\u001b[1;33m(\u001b[0m\u001b[1;33m)\u001b[0m\u001b[1;33m\u001b[0m\u001b[1;33m\u001b[0m\u001b[0m\n\u001b[1;32m----> 7\u001b[1;33m     \u001b[0mdisplay_model_feature_importance\u001b[0m\u001b[1;33m(\u001b[0m\u001b[0mmodel\u001b[0m\u001b[1;33m,\u001b[0m \u001b[0mfeatures\u001b[0m\u001b[1;33m)\u001b[0m\u001b[1;33m\u001b[0m\u001b[1;33m\u001b[0m\u001b[0m\n\u001b[0m\u001b[0;32m      8\u001b[0m     \u001b[0mdisplay_permutation_feature_importance\u001b[0m\u001b[1;33m(\u001b[0m\u001b[0mmodel\u001b[0m\u001b[1;33m,\u001b[0m \u001b[0mX\u001b[0m\u001b[1;33m)\u001b[0m\u001b[1;33m\u001b[0m\u001b[1;33m\u001b[0m\u001b[0m\n\u001b[0;32m      9\u001b[0m     \u001b[0mdisplay_mdi_feature_importance\u001b[0m\u001b[1;33m(\u001b[0m\u001b[0mmodel\u001b[0m\u001b[1;33m,\u001b[0m \u001b[0mfeatures\u001b[0m\u001b[1;33m)\u001b[0m\u001b[1;33m\u001b[0m\u001b[1;33m\u001b[0m\u001b[0m\n",
      "\u001b[1;32m<ipython-input-203-4bd7ef716528>\u001b[0m in \u001b[0;36mdisplay_model_feature_importance\u001b[1;34m(model, features)\u001b[0m\n\u001b[0;32m      6\u001b[0m     \u001b[1;31m# importance_scores = pd.Series(model.feature_importances_, index=features).sort_values(ascending=False)\u001b[0m\u001b[1;33m\u001b[0m\u001b[1;33m\u001b[0m\u001b[1;33m\u001b[0m\u001b[0m\n\u001b[0;32m      7\u001b[0m     \u001b[1;31m# importance_scores = model.best_estimator_._final_estimator.feature_importances_\u001b[0m\u001b[1;33m\u001b[0m\u001b[1;33m\u001b[0m\u001b[1;33m\u001b[0m\u001b[0m\n\u001b[1;32m----> 8\u001b[1;33m     \u001b[0mimportance_scores\u001b[0m \u001b[1;33m=\u001b[0m \u001b[0mnp\u001b[0m\u001b[1;33m.\u001b[0m\u001b[0mmean\u001b[0m\u001b[1;33m(\u001b[0m\u001b[1;33m[\u001b[0m\u001b[0mtree\u001b[0m\u001b[1;33m.\u001b[0m\u001b[0mfeature_importances_\u001b[0m \u001b[1;32mfor\u001b[0m \u001b[0mtree\u001b[0m \u001b[1;32min\u001b[0m \u001b[0mmodel\u001b[0m\u001b[1;33m.\u001b[0m\u001b[0mestimators_\u001b[0m\u001b[1;33m]\u001b[0m\u001b[1;33m,\u001b[0m \u001b[0maxis\u001b[0m\u001b[1;33m=\u001b[0m\u001b[1;36m0\u001b[0m\u001b[1;33m)\u001b[0m\u001b[1;33m\u001b[0m\u001b[1;33m\u001b[0m\u001b[0m\n\u001b[0m\u001b[0;32m      9\u001b[0m \u001b[1;33m\u001b[0m\u001b[0m\n\u001b[0;32m     10\u001b[0m     \u001b[1;31m# print features & their scores\u001b[0m\u001b[1;33m\u001b[0m\u001b[1;33m\u001b[0m\u001b[1;33m\u001b[0m\u001b[0m\n",
      "\u001b[1;32m<ipython-input-203-4bd7ef716528>\u001b[0m in \u001b[0;36m<listcomp>\u001b[1;34m(.0)\u001b[0m\n\u001b[0;32m      6\u001b[0m     \u001b[1;31m# importance_scores = pd.Series(model.feature_importances_, index=features).sort_values(ascending=False)\u001b[0m\u001b[1;33m\u001b[0m\u001b[1;33m\u001b[0m\u001b[1;33m\u001b[0m\u001b[0m\n\u001b[0;32m      7\u001b[0m     \u001b[1;31m# importance_scores = model.best_estimator_._final_estimator.feature_importances_\u001b[0m\u001b[1;33m\u001b[0m\u001b[1;33m\u001b[0m\u001b[1;33m\u001b[0m\u001b[0m\n\u001b[1;32m----> 8\u001b[1;33m     \u001b[0mimportance_scores\u001b[0m \u001b[1;33m=\u001b[0m \u001b[0mnp\u001b[0m\u001b[1;33m.\u001b[0m\u001b[0mmean\u001b[0m\u001b[1;33m(\u001b[0m\u001b[1;33m[\u001b[0m\u001b[0mtree\u001b[0m\u001b[1;33m.\u001b[0m\u001b[0mfeature_importances_\u001b[0m \u001b[1;32mfor\u001b[0m \u001b[0mtree\u001b[0m \u001b[1;32min\u001b[0m \u001b[0mmodel\u001b[0m\u001b[1;33m.\u001b[0m\u001b[0mestimators_\u001b[0m\u001b[1;33m]\u001b[0m\u001b[1;33m,\u001b[0m \u001b[0maxis\u001b[0m\u001b[1;33m=\u001b[0m\u001b[1;36m0\u001b[0m\u001b[1;33m)\u001b[0m\u001b[1;33m\u001b[0m\u001b[1;33m\u001b[0m\u001b[0m\n\u001b[0m\u001b[0;32m      9\u001b[0m \u001b[1;33m\u001b[0m\u001b[0m\n\u001b[0;32m     10\u001b[0m     \u001b[1;31m# print features & their scores\u001b[0m\u001b[1;33m\u001b[0m\u001b[1;33m\u001b[0m\u001b[1;33m\u001b[0m\u001b[0m\n",
      "\u001b[1;31mAttributeError\u001b[0m: 'Pipeline' object has no attribute 'feature_importances_'"
     ]
    }
   ],
   "source": [
    "# Easy Ensemble\n",
    "print('Easy Ensemble using the EasyEnsembleClassifier\\n')\n",
    "eec_model = EasyEnsembleClassifier(n_estimators=100)\n",
    "analyze_model(eec_model, X, X_test, y_test, features)"
   ]
  },
  {
   "cell_type": "code",
   "execution_count": null,
   "metadata": {},
   "outputs": [],
   "source": []
  },
  {
   "cell_type": "code",
   "execution_count": null,
   "metadata": {},
   "outputs": [],
   "source": [
    "cv = RepeatedStratifiedKFold(n_splits=10, n_repeats=3, random_state=1)\n",
    "scores = cross_val_score(model, X.fillna(0), y, scoring='roc_auc', cv=cv, n_jobs=-1)\n",
    "print('(Easy Ensemble) Mean ROC AUC: %.3f' % mean(scores))"
   ]
  },
  {
   "cell_type": "code",
   "execution_count": null,
   "metadata": {},
   "outputs": [],
   "source": []
  },
  {
   "cell_type": "code",
   "execution_count": null,
   "metadata": {},
   "outputs": [],
   "source": []
  },
  {
   "cell_type": "code",
   "execution_count": null,
   "metadata": {},
   "outputs": [],
   "source": []
  },
  {
   "cell_type": "code",
   "execution_count": null,
   "metadata": {},
   "outputs": [],
   "source": []
  },
  {
   "cell_type": "code",
   "execution_count": null,
   "metadata": {},
   "outputs": [],
   "source": []
  },
  {
   "cell_type": "markdown",
   "metadata": {
    "tags": []
   },
   "source": [
    "# Generate new model based on most important features\n",
    "\n",
    "Remember to remove least important features and only fit models with the most important features for prediction."
   ]
  },
  {
   "cell_type": "code",
   "execution_count": 198,
   "metadata": {
    "tags": []
   },
   "outputs": [],
   "source": [
    "# import train_test_split\n",
    "from sklearn.model_selection import train_test_split\n",
    "\n",
    "# split dataset into features and labels\n",
    "features = ['polarity', 'subjectivity', 'publisher_val']\n",
    "labels   = ['cred_score']\n",
    "\n",
    "X = df[features]\n",
    "y = df[labels]\n",
    "\n",
    "# split dataset into train and test set\n",
    "X_train, X_test, y_train, y_test = train_test_split(X, y, test_size=0.70, random_state=5) # 70% training and 30% test"
   ]
  },
  {
   "cell_type": "code",
   "execution_count": 199,
   "metadata": {
    "tags": []
   },
   "outputs": [
    {
     "name": "stdout",
     "output_type": "stream",
     "text": [
      "Accuracy: 0.9121917153673686\n"
     ]
    }
   ],
   "source": [
    "# generate new model on selected training data set\n",
    "\n",
    "from sklearn.ensemble import RandomForestClassifier\n",
    "\n",
    "# define and fit the new model\n",
    "new_model = RandomForestClassifier(n_estimators=100)\n",
    "new_model.fit(X_train.fillna(0), y_train.values.ravel())\n",
    "\n",
    "# prediction on test set\n",
    "y_pred = new_model.predict(X_test)\n",
    "\n",
    "# import metrics for accuracy calculation\n",
    "from sklearn import metrics\n",
    "print(\"Accuracy:\", metrics.accuracy_score(y_test, y_pred))"
   ]
  }
 ],
 "metadata": {
  "colab": {
   "collapsed_sections": [],
   "name": "random forest classifier.ipynb",
   "provenance": []
  },
  "kernelspec": {
   "display_name": "Python 3",
   "language": "python",
   "name": "python3"
  },
  "language_info": {
   "codemirror_mode": {
    "name": "ipython",
    "version": 3
   },
   "file_extension": ".py",
   "mimetype": "text/x-python",
   "name": "python",
   "nbconvert_exporter": "python",
   "pygments_lexer": "ipython3",
   "version": "3.8.8"
  }
 },
 "nbformat": 4,
 "nbformat_minor": 4
}
